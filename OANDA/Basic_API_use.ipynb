{
 "cells": [
  {
   "cell_type": "markdown",
   "source": [
    "# Using the OANDA API\n",
    "\n",
    "This notebook will serve as a quick reference for basic API usage."
   ],
   "metadata": {
    "collapsed": false
   }
  },
  {
   "cell_type": "markdown",
   "source": [
    "We will need a file to store our api credentials, for security reasons I will not be uploading mine, but it is an \"oanda.cfg\" file with the following info:\n",
    "\n",
    "```\n",
    "[oanda]\n",
    "account_id = xxx-xxx-xxxxxxx-xxxxx\n",
    "access_token = xxxxxxxxxxxxxxxxxxxxxxxx-xxxxxxxxxxxxxxxxxxxx\n",
    "account_type = practice\n",
    "```\n"
   ],
   "metadata": {
    "collapsed": false
   }
  },
  {
   "cell_type": "code",
   "execution_count": 3,
   "outputs": [],
   "source": [
    "import tpqoa\n",
    "api = tpqoa.tpqoa(\"oanda.cfg\")"
   ],
   "metadata": {
    "collapsed": false,
    "ExecuteTime": {
     "end_time": "2023-06-21T23:51:58.936029Z",
     "start_time": "2023-06-21T23:51:58.918029900Z"
    }
   }
  },
  {
   "cell_type": "code",
   "execution_count": 6,
   "outputs": [
    {
     "data": {
      "text/plain": "'99925.9832'"
     },
     "execution_count": 6,
     "metadata": {},
     "output_type": "execute_result"
    }
   ],
   "source": [
    "# For a an account summary, there's a lot of info here\n",
    "api.get_account_summary()\n",
    "\n",
    "# To access specific things\n",
    "api.get_account_summary()[\"balance\"]"
   ],
   "metadata": {
    "collapsed": false,
    "ExecuteTime": {
     "end_time": "2023-06-21T23:53:59.685528600Z",
     "start_time": "2023-06-21T23:53:59.407532700Z"
    }
   }
  },
  {
   "cell_type": "code",
   "execution_count": 7,
   "outputs": [
    {
     "data": {
      "text/plain": "'practice'"
     },
     "execution_count": 7,
     "metadata": {},
     "output_type": "execute_result"
    }
   ],
   "source": [
    "# Check account type\n",
    "api.account_type"
   ],
   "metadata": {
    "collapsed": false,
    "ExecuteTime": {
     "end_time": "2023-06-21T23:54:31.273531900Z",
     "start_time": "2023-06-21T23:54:31.247532500Z"
    }
   }
  },
  {
   "cell_type": "code",
   "execution_count": 12,
   "outputs": [
    {
     "data": {
      "text/plain": "124"
     },
     "execution_count": 12,
     "metadata": {},
     "output_type": "execute_result"
    }
   ],
   "source": [
    "# For a complete list of available trading instruments\n",
    "api.get_instruments()\n",
    "\n",
    "# There's a lot, this many in fact\n",
    "len(api.get_instruments())"
   ],
   "metadata": {
    "collapsed": false,
    "ExecuteTime": {
     "end_time": "2023-06-21T23:56:35.542029100Z",
     "start_time": "2023-06-21T23:56:35.240531800Z"
    }
   }
  },
  {
   "cell_type": "markdown",
   "source": [
    "# Accessing Historical Data\n",
    "This is how we can grab training data for our models/strategies.\n",
    "The query format is nice and simple:\n",
    "\n",
    "```\n",
    "api.get_history(\n",
    "    instrument = \"INSTRUMENT\",\n",
    "    start = \"YYYY-MM-DD\",\n",
    "    end = \"YYYY-MM-DD\",\n",
    "    granularity = \"TIMEFRAME\",\n",
    "    price = \"B for BID or A for ASK\"\n",
    "    )\n",
    "```"
   ],
   "metadata": {
    "collapsed": false
   }
  },
  {
   "cell_type": "code",
   "execution_count": 15,
   "outputs": [
    {
     "name": "stdout",
     "output_type": "stream",
     "text": [
      "Help on method get_history in module tpqoa.tpqoa:\n",
      "\n",
      "get_history(instrument, start, end, granularity, price) method of tpqoa.tpqoa.tpqoa instance\n",
      "    Retrieves historical data for instrument.\n",
      "    \n",
      "    Parameters\n",
      "    ==========\n",
      "    instrument: string\n",
      "        valid instrument name\n",
      "    start, end: datetime, str\n",
      "        Python datetime or string objects for start and end\n",
      "    granularity: string\n",
      "        a string like 'S5', 'M1' or 'D'\n",
      "    price: string\n",
      "        one of 'A' (ask) or 'B' (bid)\n",
      "    \n",
      "    Returns\n",
      "    =======\n",
      "    data: pd.DataFrame\n",
      "        pandas DataFrame object with data\n",
      "\n"
     ]
    }
   ],
   "source": [
    "# There's also some helpful documentation, accessible with the python \"help()\" function\n",
    "help(api.get_history)"
   ],
   "metadata": {
    "collapsed": false,
    "ExecuteTime": {
     "end_time": "2023-06-22T00:04:59.863033Z",
     "start_time": "2023-06-22T00:04:59.841031700Z"
    }
   }
  },
  {
   "cell_type": "code",
   "execution_count": 23,
   "outputs": [
    {
     "data": {
      "text/plain": "('GBP/HKD', 'GBP_HKD')"
     },
     "execution_count": 23,
     "metadata": {},
     "output_type": "execute_result"
    }
   ],
   "source": [
    "# Here's an example:\n",
    "# We want the hourly price info of the GBP/HKD from Christmas Eve 2020\n",
    "\n",
    "# Only thing to watch out for is we need to use the technical name of the instrument, which can be found in the second field of the following\n",
    "api.get_instruments()[42]"
   ],
   "metadata": {
    "collapsed": false,
    "ExecuteTime": {
     "end_time": "2023-06-22T00:09:07.777532Z",
     "start_time": "2023-06-22T00:09:07.626531600Z"
    }
   }
  },
  {
   "cell_type": "code",
   "execution_count": 27,
   "outputs": [
    {
     "data": {
      "text/plain": "                           volume  complete         o         h         l  \\\ntime                                                                        \n2020-12-24 00:00:00+00:00    1627      True  10.47723  10.49294  10.46930   \n2020-12-24 01:00:00+00:00    2195      True  10.49033  10.50606  10.48634   \n2020-12-24 02:00:00+00:00    2041      True  10.49348  10.51507  10.49324   \n2020-12-24 03:00:00+00:00    2076      True  10.51055  10.51666  10.50062   \n2020-12-24 04:00:00+00:00    1389      True  10.50754  10.50904  10.49974   \n2020-12-24 05:00:00+00:00     646      True  10.50613  10.51310  10.50402   \n2020-12-24 06:00:00+00:00     953      True  10.51138  10.51617  10.50047   \n2020-12-24 07:00:00+00:00    2256      True  10.51353  10.53094  10.50687   \n2020-12-24 08:00:00+00:00    2783      True  10.51866  10.54955  10.51274   \n2020-12-24 09:00:00+00:00    2823      True  10.54139  10.55087  10.52914   \n2020-12-24 10:00:00+00:00    2598      True  10.54404  10.56043  10.54067   \n2020-12-24 11:00:00+00:00    2102      True  10.55112  10.55835  10.53349   \n2020-12-24 12:00:00+00:00    2216      True  10.53615  10.54080  10.50989   \n2020-12-24 13:00:00+00:00    1340      True  10.53038  10.54128  10.51845   \n2020-12-24 14:00:00+00:00    3275      True  10.53724  10.55688  10.53007   \n2020-12-24 15:00:00+00:00    5683      True  10.53193  10.53232  10.48521   \n2020-12-24 16:00:00+00:00    1899      True  10.49497  10.50917  10.49467   \n2020-12-24 17:00:00+00:00    1265      True  10.50345  10.50384  10.49682   \n2020-12-24 18:00:00+00:00    3298      True  10.49781  10.50057  10.49006   \n2020-12-24 19:00:00+00:00     533      True  10.49489  10.49795  10.49277   \n2020-12-24 20:00:00+00:00     763      True  10.49786  10.50013  10.49505   \n2020-12-24 21:00:00+00:00     691      True  10.49972  10.52554  10.49864   \n\n                                  c  \ntime                                 \n2020-12-24 00:00:00+00:00  10.49064  \n2020-12-24 01:00:00+00:00  10.49349  \n2020-12-24 02:00:00+00:00  10.51032  \n2020-12-24 03:00:00+00:00  10.50800  \n2020-12-24 04:00:00+00:00  10.50611  \n2020-12-24 05:00:00+00:00  10.51146  \n2020-12-24 06:00:00+00:00  10.51384  \n2020-12-24 07:00:00+00:00  10.51882  \n2020-12-24 08:00:00+00:00  10.54147  \n2020-12-24 09:00:00+00:00  10.54451  \n2020-12-24 10:00:00+00:00  10.55121  \n2020-12-24 11:00:00+00:00  10.53619  \n2020-12-24 12:00:00+00:00  10.53045  \n2020-12-24 13:00:00+00:00  10.53732  \n2020-12-24 14:00:00+00:00  10.53170  \n2020-12-24 15:00:00+00:00  10.49521  \n2020-12-24 16:00:00+00:00  10.50337  \n2020-12-24 17:00:00+00:00  10.49782  \n2020-12-24 18:00:00+00:00  10.49496  \n2020-12-24 19:00:00+00:00  10.49756  \n2020-12-24 20:00:00+00:00  10.49964  \n2020-12-24 21:00:00+00:00  10.51863  ",
      "text/html": "<div>\n<style scoped>\n    .dataframe tbody tr th:only-of-type {\n        vertical-align: middle;\n    }\n\n    .dataframe tbody tr th {\n        vertical-align: top;\n    }\n\n    .dataframe thead th {\n        text-align: right;\n    }\n</style>\n<table border=\"1\" class=\"dataframe\">\n  <thead>\n    <tr style=\"text-align: right;\">\n      <th></th>\n      <th>volume</th>\n      <th>complete</th>\n      <th>o</th>\n      <th>h</th>\n      <th>l</th>\n      <th>c</th>\n    </tr>\n    <tr>\n      <th>time</th>\n      <th></th>\n      <th></th>\n      <th></th>\n      <th></th>\n      <th></th>\n      <th></th>\n    </tr>\n  </thead>\n  <tbody>\n    <tr>\n      <th>2020-12-24 00:00:00+00:00</th>\n      <td>1627</td>\n      <td>True</td>\n      <td>10.47723</td>\n      <td>10.49294</td>\n      <td>10.46930</td>\n      <td>10.49064</td>\n    </tr>\n    <tr>\n      <th>2020-12-24 01:00:00+00:00</th>\n      <td>2195</td>\n      <td>True</td>\n      <td>10.49033</td>\n      <td>10.50606</td>\n      <td>10.48634</td>\n      <td>10.49349</td>\n    </tr>\n    <tr>\n      <th>2020-12-24 02:00:00+00:00</th>\n      <td>2041</td>\n      <td>True</td>\n      <td>10.49348</td>\n      <td>10.51507</td>\n      <td>10.49324</td>\n      <td>10.51032</td>\n    </tr>\n    <tr>\n      <th>2020-12-24 03:00:00+00:00</th>\n      <td>2076</td>\n      <td>True</td>\n      <td>10.51055</td>\n      <td>10.51666</td>\n      <td>10.50062</td>\n      <td>10.50800</td>\n    </tr>\n    <tr>\n      <th>2020-12-24 04:00:00+00:00</th>\n      <td>1389</td>\n      <td>True</td>\n      <td>10.50754</td>\n      <td>10.50904</td>\n      <td>10.49974</td>\n      <td>10.50611</td>\n    </tr>\n    <tr>\n      <th>2020-12-24 05:00:00+00:00</th>\n      <td>646</td>\n      <td>True</td>\n      <td>10.50613</td>\n      <td>10.51310</td>\n      <td>10.50402</td>\n      <td>10.51146</td>\n    </tr>\n    <tr>\n      <th>2020-12-24 06:00:00+00:00</th>\n      <td>953</td>\n      <td>True</td>\n      <td>10.51138</td>\n      <td>10.51617</td>\n      <td>10.50047</td>\n      <td>10.51384</td>\n    </tr>\n    <tr>\n      <th>2020-12-24 07:00:00+00:00</th>\n      <td>2256</td>\n      <td>True</td>\n      <td>10.51353</td>\n      <td>10.53094</td>\n      <td>10.50687</td>\n      <td>10.51882</td>\n    </tr>\n    <tr>\n      <th>2020-12-24 08:00:00+00:00</th>\n      <td>2783</td>\n      <td>True</td>\n      <td>10.51866</td>\n      <td>10.54955</td>\n      <td>10.51274</td>\n      <td>10.54147</td>\n    </tr>\n    <tr>\n      <th>2020-12-24 09:00:00+00:00</th>\n      <td>2823</td>\n      <td>True</td>\n      <td>10.54139</td>\n      <td>10.55087</td>\n      <td>10.52914</td>\n      <td>10.54451</td>\n    </tr>\n    <tr>\n      <th>2020-12-24 10:00:00+00:00</th>\n      <td>2598</td>\n      <td>True</td>\n      <td>10.54404</td>\n      <td>10.56043</td>\n      <td>10.54067</td>\n      <td>10.55121</td>\n    </tr>\n    <tr>\n      <th>2020-12-24 11:00:00+00:00</th>\n      <td>2102</td>\n      <td>True</td>\n      <td>10.55112</td>\n      <td>10.55835</td>\n      <td>10.53349</td>\n      <td>10.53619</td>\n    </tr>\n    <tr>\n      <th>2020-12-24 12:00:00+00:00</th>\n      <td>2216</td>\n      <td>True</td>\n      <td>10.53615</td>\n      <td>10.54080</td>\n      <td>10.50989</td>\n      <td>10.53045</td>\n    </tr>\n    <tr>\n      <th>2020-12-24 13:00:00+00:00</th>\n      <td>1340</td>\n      <td>True</td>\n      <td>10.53038</td>\n      <td>10.54128</td>\n      <td>10.51845</td>\n      <td>10.53732</td>\n    </tr>\n    <tr>\n      <th>2020-12-24 14:00:00+00:00</th>\n      <td>3275</td>\n      <td>True</td>\n      <td>10.53724</td>\n      <td>10.55688</td>\n      <td>10.53007</td>\n      <td>10.53170</td>\n    </tr>\n    <tr>\n      <th>2020-12-24 15:00:00+00:00</th>\n      <td>5683</td>\n      <td>True</td>\n      <td>10.53193</td>\n      <td>10.53232</td>\n      <td>10.48521</td>\n      <td>10.49521</td>\n    </tr>\n    <tr>\n      <th>2020-12-24 16:00:00+00:00</th>\n      <td>1899</td>\n      <td>True</td>\n      <td>10.49497</td>\n      <td>10.50917</td>\n      <td>10.49467</td>\n      <td>10.50337</td>\n    </tr>\n    <tr>\n      <th>2020-12-24 17:00:00+00:00</th>\n      <td>1265</td>\n      <td>True</td>\n      <td>10.50345</td>\n      <td>10.50384</td>\n      <td>10.49682</td>\n      <td>10.49782</td>\n    </tr>\n    <tr>\n      <th>2020-12-24 18:00:00+00:00</th>\n      <td>3298</td>\n      <td>True</td>\n      <td>10.49781</td>\n      <td>10.50057</td>\n      <td>10.49006</td>\n      <td>10.49496</td>\n    </tr>\n    <tr>\n      <th>2020-12-24 19:00:00+00:00</th>\n      <td>533</td>\n      <td>True</td>\n      <td>10.49489</td>\n      <td>10.49795</td>\n      <td>10.49277</td>\n      <td>10.49756</td>\n    </tr>\n    <tr>\n      <th>2020-12-24 20:00:00+00:00</th>\n      <td>763</td>\n      <td>True</td>\n      <td>10.49786</td>\n      <td>10.50013</td>\n      <td>10.49505</td>\n      <td>10.49964</td>\n    </tr>\n    <tr>\n      <th>2020-12-24 21:00:00+00:00</th>\n      <td>691</td>\n      <td>True</td>\n      <td>10.49972</td>\n      <td>10.52554</td>\n      <td>10.49864</td>\n      <td>10.51863</td>\n    </tr>\n  </tbody>\n</table>\n</div>"
     },
     "execution_count": 27,
     "metadata": {},
     "output_type": "execute_result"
    }
   ],
   "source": [
    "api.get_history(\n",
    "    instrument=\"GBP_HKD\",\n",
    "    start=\"2020-12-24\",\n",
    "    end=\"2020-12-25\",\n",
    "    granularity=\"H1\",\n",
    "    price=\"A\"\n",
    ")"
   ],
   "metadata": {
    "collapsed": false,
    "ExecuteTime": {
     "end_time": "2023-06-22T00:11:12.403531900Z",
     "start_time": "2023-06-22T00:11:12.241532400Z"
    }
   }
  },
  {
   "cell_type": "code",
   "execution_count": 28,
   "outputs": [
    {
     "name": "stdout",
     "output_type": "stream",
     "text": [
      "<class 'pandas.core.frame.DataFrame'>\n",
      "DatetimeIndex: 22 entries, 2020-12-24 00:00:00+00:00 to 2020-12-24 21:00:00+00:00\n",
      "Data columns (total 6 columns):\n",
      " #   Column    Non-Null Count  Dtype  \n",
      "---  ------    --------------  -----  \n",
      " 0   volume    22 non-null     int64  \n",
      " 1   complete  22 non-null     bool   \n",
      " 2   o         22 non-null     float64\n",
      " 3   h         22 non-null     float64\n",
      " 4   l         22 non-null     float64\n",
      " 5   c         22 non-null     float64\n",
      "dtypes: bool(1), float64(4), int64(1)\n",
      "memory usage: 1.1 KB\n"
     ]
    }
   ],
   "source": [
    "# We will typically want to store these in a data frame\n",
    "df = api.get_history(\"GBP_HKD\",\"2020-12-24\",\"2020-12-25\",\"H1\",\"A\")\n",
    "df.info()\n",
    "\n",
    "# As a reminder, \"OHLC\" is \"Open High Low Close\""
   ],
   "metadata": {
    "collapsed": false,
    "ExecuteTime": {
     "end_time": "2023-06-22T00:13:32.771032Z",
     "start_time": "2023-06-22T00:13:32.609529400Z"
    }
   }
  },
  {
   "cell_type": "code",
   "execution_count": 33,
   "outputs": [
    {
     "name": "stderr",
     "output_type": "stream",
     "text": [
      "C:\\ProgramData\\anaconda3\\envs\\udemy-algo-trading\\lib\\site-packages\\tpqoa\\tpqoa.py:161: FutureWarning: The frame.append method is deprecated and will be removed from pandas in a future version. Use pandas.concat instead.\n",
      "  data = data.append(batch)\n",
      "C:\\ProgramData\\anaconda3\\envs\\udemy-algo-trading\\lib\\site-packages\\tpqoa\\tpqoa.py:161: FutureWarning: The frame.append method is deprecated and will be removed from pandas in a future version. Use pandas.concat instead.\n",
      "  data = data.append(batch)\n",
      "C:\\ProgramData\\anaconda3\\envs\\udemy-algo-trading\\lib\\site-packages\\tpqoa\\tpqoa.py:161: FutureWarning: The frame.append method is deprecated and will be removed from pandas in a future version. Use pandas.concat instead.\n",
      "  data = data.append(batch)\n",
      "C:\\ProgramData\\anaconda3\\envs\\udemy-algo-trading\\lib\\site-packages\\tpqoa\\tpqoa.py:161: FutureWarning: The frame.append method is deprecated and will be removed from pandas in a future version. Use pandas.concat instead.\n",
      "  data = data.append(batch)\n",
      "C:\\ProgramData\\anaconda3\\envs\\udemy-algo-trading\\lib\\site-packages\\tpqoa\\tpqoa.py:161: FutureWarning: The frame.append method is deprecated and will be removed from pandas in a future version. Use pandas.concat instead.\n",
      "  data = data.append(batch)\n",
      "C:\\ProgramData\\anaconda3\\envs\\udemy-algo-trading\\lib\\site-packages\\tpqoa\\tpqoa.py:161: FutureWarning: The frame.append method is deprecated and will be removed from pandas in a future version. Use pandas.concat instead.\n",
      "  data = data.append(batch)\n",
      "C:\\ProgramData\\anaconda3\\envs\\udemy-algo-trading\\lib\\site-packages\\tpqoa\\tpqoa.py:161: FutureWarning: The frame.append method is deprecated and will be removed from pandas in a future version. Use pandas.concat instead.\n",
      "  data = data.append(batch)\n",
      "C:\\ProgramData\\anaconda3\\envs\\udemy-algo-trading\\lib\\site-packages\\tpqoa\\tpqoa.py:161: FutureWarning: The frame.append method is deprecated and will be removed from pandas in a future version. Use pandas.concat instead.\n",
      "  data = data.append(batch)\n",
      "C:\\ProgramData\\anaconda3\\envs\\udemy-algo-trading\\lib\\site-packages\\tpqoa\\tpqoa.py:161: FutureWarning: The frame.append method is deprecated and will be removed from pandas in a future version. Use pandas.concat instead.\n",
      "  data = data.append(batch)\n",
      "C:\\ProgramData\\anaconda3\\envs\\udemy-algo-trading\\lib\\site-packages\\tpqoa\\tpqoa.py:161: FutureWarning: The frame.append method is deprecated and will be removed from pandas in a future version. Use pandas.concat instead.\n",
      "  data = data.append(batch)\n",
      "C:\\ProgramData\\anaconda3\\envs\\udemy-algo-trading\\lib\\site-packages\\tpqoa\\tpqoa.py:161: FutureWarning: The frame.append method is deprecated and will be removed from pandas in a future version. Use pandas.concat instead.\n",
      "  data = data.append(batch)\n",
      "C:\\ProgramData\\anaconda3\\envs\\udemy-algo-trading\\lib\\site-packages\\tpqoa\\tpqoa.py:161: FutureWarning: The frame.append method is deprecated and will be removed from pandas in a future version. Use pandas.concat instead.\n",
      "  data = data.append(batch)\n",
      "C:\\ProgramData\\anaconda3\\envs\\udemy-algo-trading\\lib\\site-packages\\tpqoa\\tpqoa.py:161: FutureWarning: The frame.append method is deprecated and will be removed from pandas in a future version. Use pandas.concat instead.\n",
      "  data = data.append(batch)\n",
      "C:\\ProgramData\\anaconda3\\envs\\udemy-algo-trading\\lib\\site-packages\\tpqoa\\tpqoa.py:161: FutureWarning: The frame.append method is deprecated and will be removed from pandas in a future version. Use pandas.concat instead.\n",
      "  data = data.append(batch)\n",
      "C:\\ProgramData\\anaconda3\\envs\\udemy-algo-trading\\lib\\site-packages\\tpqoa\\tpqoa.py:161: FutureWarning: The frame.append method is deprecated and will be removed from pandas in a future version. Use pandas.concat instead.\n",
      "  data = data.append(batch)\n",
      "C:\\ProgramData\\anaconda3\\envs\\udemy-algo-trading\\lib\\site-packages\\tpqoa\\tpqoa.py:161: FutureWarning: The frame.append method is deprecated and will be removed from pandas in a future version. Use pandas.concat instead.\n",
      "  data = data.append(batch)\n",
      "C:\\ProgramData\\anaconda3\\envs\\udemy-algo-trading\\lib\\site-packages\\tpqoa\\tpqoa.py:161: FutureWarning: The frame.append method is deprecated and will be removed from pandas in a future version. Use pandas.concat instead.\n",
      "  data = data.append(batch)\n",
      "C:\\ProgramData\\anaconda3\\envs\\udemy-algo-trading\\lib\\site-packages\\tpqoa\\tpqoa.py:161: FutureWarning: The frame.append method is deprecated and will be removed from pandas in a future version. Use pandas.concat instead.\n",
      "  data = data.append(batch)\n",
      "C:\\ProgramData\\anaconda3\\envs\\udemy-algo-trading\\lib\\site-packages\\tpqoa\\tpqoa.py:161: FutureWarning: The frame.append method is deprecated and will be removed from pandas in a future version. Use pandas.concat instead.\n",
      "  data = data.append(batch)\n",
      "C:\\ProgramData\\anaconda3\\envs\\udemy-algo-trading\\lib\\site-packages\\tpqoa\\tpqoa.py:161: FutureWarning: The frame.append method is deprecated and will be removed from pandas in a future version. Use pandas.concat instead.\n",
      "  data = data.append(batch)\n",
      "C:\\ProgramData\\anaconda3\\envs\\udemy-algo-trading\\lib\\site-packages\\tpqoa\\tpqoa.py:161: FutureWarning: The frame.append method is deprecated and will be removed from pandas in a future version. Use pandas.concat instead.\n",
      "  data = data.append(batch)\n",
      "C:\\ProgramData\\anaconda3\\envs\\udemy-algo-trading\\lib\\site-packages\\tpqoa\\tpqoa.py:161: FutureWarning: The frame.append method is deprecated and will be removed from pandas in a future version. Use pandas.concat instead.\n",
      "  data = data.append(batch)\n",
      "C:\\ProgramData\\anaconda3\\envs\\udemy-algo-trading\\lib\\site-packages\\tpqoa\\tpqoa.py:161: FutureWarning: The frame.append method is deprecated and will be removed from pandas in a future version. Use pandas.concat instead.\n",
      "  data = data.append(batch)\n",
      "C:\\ProgramData\\anaconda3\\envs\\udemy-algo-trading\\lib\\site-packages\\tpqoa\\tpqoa.py:161: FutureWarning: The frame.append method is deprecated and will be removed from pandas in a future version. Use pandas.concat instead.\n",
      "  data = data.append(batch)\n",
      "C:\\ProgramData\\anaconda3\\envs\\udemy-algo-trading\\lib\\site-packages\\tpqoa\\tpqoa.py:161: FutureWarning: The frame.append method is deprecated and will be removed from pandas in a future version. Use pandas.concat instead.\n",
      "  data = data.append(batch)\n",
      "C:\\ProgramData\\anaconda3\\envs\\udemy-algo-trading\\lib\\site-packages\\tpqoa\\tpqoa.py:161: FutureWarning: The frame.append method is deprecated and will be removed from pandas in a future version. Use pandas.concat instead.\n",
      "  data = data.append(batch)\n",
      "C:\\ProgramData\\anaconda3\\envs\\udemy-algo-trading\\lib\\site-packages\\tpqoa\\tpqoa.py:161: FutureWarning: The frame.append method is deprecated and will be removed from pandas in a future version. Use pandas.concat instead.\n",
      "  data = data.append(batch)\n",
      "C:\\ProgramData\\anaconda3\\envs\\udemy-algo-trading\\lib\\site-packages\\tpqoa\\tpqoa.py:161: FutureWarning: The frame.append method is deprecated and will be removed from pandas in a future version. Use pandas.concat instead.\n",
      "  data = data.append(batch)\n",
      "C:\\ProgramData\\anaconda3\\envs\\udemy-algo-trading\\lib\\site-packages\\tpqoa\\tpqoa.py:161: FutureWarning: The frame.append method is deprecated and will be removed from pandas in a future version. Use pandas.concat instead.\n",
      "  data = data.append(batch)\n",
      "C:\\ProgramData\\anaconda3\\envs\\udemy-algo-trading\\lib\\site-packages\\tpqoa\\tpqoa.py:161: FutureWarning: The frame.append method is deprecated and will be removed from pandas in a future version. Use pandas.concat instead.\n",
      "  data = data.append(batch)\n",
      "C:\\ProgramData\\anaconda3\\envs\\udemy-algo-trading\\lib\\site-packages\\tpqoa\\tpqoa.py:161: FutureWarning: The frame.append method is deprecated and will be removed from pandas in a future version. Use pandas.concat instead.\n",
      "  data = data.append(batch)\n"
     ]
    },
    {
     "data": {
      "text/plain": "(29345, 6)"
     },
     "execution_count": 33,
     "metadata": {},
     "output_type": "execute_result"
    }
   ],
   "source": [
    "# We can get a lot of data very quickly, say every minute of info about the EUR/USD for a month\n",
    "\n",
    "big_df = api.get_history(\"EUR_USD\",\"2020-01-01\",\"2020-02-01\",\"M1\",\"A\")\n",
    "big_df.shape\n",
    "\n",
    "# If this warning ever becomes a problem:\n",
    "# tpqoa is using frame.append which is deprecated, change it to pandas.concat"
   ],
   "metadata": {
    "collapsed": false,
    "ExecuteTime": {
     "end_time": "2023-06-22T00:17:36.777029Z",
     "start_time": "2023-06-22T00:17:28.918530300Z"
    }
   }
  },
  {
   "cell_type": "markdown",
   "source": [
    "# Streaming High-Frequency Data (Real Time)\n",
    "\n",
    "This api is great, it also allows us to get the real-time market info!"
   ],
   "metadata": {
    "collapsed": false
   }
  },
  {
   "cell_type": "code",
   "execution_count": 38,
   "outputs": [
    {
     "name": "stdout",
     "output_type": "stream",
     "text": [
      "2023-06-22T00:24:56.133517676Z 1.27686 1.27699\n",
      "2023-06-22T00:24:56.714463888Z 1.27685 1.27699\n",
      "2023-06-22T00:24:57.156398321Z 1.27685 1.27698\n",
      "2023-06-22T00:24:57.547066497Z 1.27685 1.27699\n",
      "2023-06-22T00:24:58.380292967Z 1.27686 1.27699\n"
     ]
    }
   ],
   "source": [
    "# It comes back in the format (Datetime bid ask) I believe\n",
    "api.stream_data(\"GBP_USD\", stop=5)\n",
    "\n",
    "#TODO: Learn how to work with data streams"
   ],
   "metadata": {
    "collapsed": false,
    "ExecuteTime": {
     "end_time": "2023-06-22T00:24:57.912033400Z",
     "start_time": "2023-06-22T00:24:55.894533200Z"
    }
   }
  },
  {
   "cell_type": "markdown",
   "source": [
    "# Creating Orders / Executing Trades\n",
    "\n",
    "Getting the data is great, but we can also use the api to place trades!"
   ],
   "metadata": {
    "collapsed": false
   }
  },
  {
   "cell_type": "code",
   "execution_count": 67,
   "outputs": [
    {
     "name": "stdout",
     "output_type": "stream",
     "text": [
      "\n",
      "\n",
      " {'id': '269', 'time': '2023-06-22T00:45:09.232604682Z', 'userID': 24104852, 'accountID': '101-004-24104852-001', 'batchID': '268', 'requestID': '25091844888089495', 'type': 'ORDER_FILL', 'orderID': '268', 'instrument': 'EUR_USD', 'units': '1000.0', 'gainQuoteHomeConversionFactor': '0.779234005543', 'lossQuoteHomeConversionFactor': '0.787065503086', 'price': 1.09887, 'fullVWAP': 1.09887, 'fullPrice': {'type': 'PRICE', 'bids': [{'price': 1.09875, 'liquidity': '1000000'}, {'price': 1.09874, 'liquidity': '2000000'}, {'price': 1.09873, 'liquidity': '2000000'}, {'price': 1.09871, 'liquidity': '5000000'}], 'asks': [{'price': 1.09887, 'liquidity': '1000000'}, {'price': 1.09889, 'liquidity': '2000000'}, {'price': 1.0989, 'liquidity': '2000000'}, {'price': 1.09891, 'liquidity': '5000000'}], 'closeoutBid': 1.09871, 'closeoutAsk': 1.09891}, 'reason': 'MARKET_ORDER', 'pl': '0.0', 'financing': '0.0', 'commission': '0.0', 'guaranteedExecutionFee': '0.0', 'accountBalance': '100067.428', 'tradeOpened': {'tradeID': '269', 'units': '1000.0', 'price': 1.09887, 'guaranteedExecutionFee': '0.0', 'halfSpreadCost': '0.047', 'initialMarginRequired': '28.6847'}, 'halfSpreadCost': '0.047'} \n",
      "\n"
     ]
    }
   ],
   "source": [
    "# The query format for this is also quite straight forward\n",
    "api.create_order(\n",
    "    instrument=\"EUR_USD\",\n",
    "    units=1000,\n",
    "    sl_distance=1\n",
    ")\n",
    "\n",
    "# Whenever this code is run, an order will be created on the account!\n",
    "# Note there is no \"Take profit\" available for this, that's a problem for later though"
   ],
   "metadata": {
    "collapsed": false,
    "ExecuteTime": {
     "end_time": "2023-06-22T00:45:08.695029Z",
     "start_time": "2023-06-22T00:45:08.539532200Z"
    }
   }
  },
  {
   "cell_type": "code",
   "execution_count": 68,
   "outputs": [
    {
     "data": {
      "text/plain": "1"
     },
     "execution_count": 68,
     "metadata": {},
     "output_type": "execute_result"
    }
   ],
   "source": [
    "api.get_account_summary()[\"openTradeCount\"]"
   ],
   "metadata": {
    "collapsed": false,
    "ExecuteTime": {
     "end_time": "2023-06-22T00:45:10.787531500Z",
     "start_time": "2023-06-22T00:45:10.645030100Z"
    }
   }
  },
  {
   "cell_type": "code",
   "execution_count": 81,
   "outputs": [
    {
     "name": "stdout",
     "output_type": "stream",
     "text": [
      "MARKET_ORDER\n",
      "ORDER_FILL\n",
      "STOP_LOSS_ORDER\n"
     ]
    }
   ],
   "source": [
    "# It seems that for each order, 3 transactions are created\n",
    "# 1) The request to buy/sell the amount of some instrument\n",
    "# 2) That order being completed\n",
    "# 3) The stop loss being set\n",
    "info = api.get_transactions()[-3:]\n",
    "\n",
    "for transaction in info:\n",
    "    print(transaction[\"type\"])"
   ],
   "metadata": {
    "collapsed": false,
    "ExecuteTime": {
     "end_time": "2023-06-22T00:48:52.568530200Z",
     "start_time": "2023-06-22T00:48:52.209032100Z"
    }
   }
  },
  {
   "cell_type": "code",
   "execution_count": 66,
   "outputs": [
    {
     "name": "stdout",
     "output_type": "stream",
     "text": [
      "\n",
      "\n",
      " {'id': '259', 'time': '2023-06-22T00:43:25.186911065Z', 'userID': 24104852, 'accountID': '101-004-24104852-001', 'batchID': '258', 'requestID': '79135039980050055', 'type': 'ORDER_FILL', 'orderID': '258', 'instrument': 'EUR_USD', 'units': '-8000.0', 'gainQuoteHomeConversionFactor': '0.779230953016', 'lossQuoteHomeConversionFactor': '0.78706241988', 'price': 1.09877, 'fullVWAP': 1.09877, 'fullPrice': {'type': 'PRICE', 'bids': [{'price': 1.09877, 'liquidity': '1000000'}, {'price': 1.09876, 'liquidity': '2000000'}, {'price': 1.09875, 'liquidity': '2000000'}, {'price': 1.09873, 'liquidity': '5000000'}], 'asks': [{'price': 1.09889, 'liquidity': '1000000'}, {'price': 1.09891, 'liquidity': '2000000'}, {'price': 1.09892, 'liquidity': '2000000'}, {'price': 1.09893, 'liquidity': '5000000'}], 'closeoutBid': 1.09873, 'closeoutAsk': 1.09893}, 'reason': 'MARKET_ORDER', 'pl': '141.4448', 'financing': '0.0', 'commission': '0.0', 'guaranteedExecutionFee': '0.0', 'accountBalance': '100067.428', 'tradesClosed': [{'tradeID': '72', 'units': '-1000.0', 'price': 1.09877, 'realizedPL': '20.221', 'financing': '0.0', 'guaranteedExecutionFee': '0.0', 'halfSpreadCost': '0.047'}, {'tradeID': '75', 'units': '-1000.0', 'price': 1.09877, 'realizedPL': '20.1821', 'financing': '0.0', 'guaranteedExecutionFee': '0.0', 'halfSpreadCost': '0.047'}, {'tradeID': '78', 'units': '-1000.0', 'price': 1.09877, 'realizedPL': '20.1899', 'financing': '0.0', 'guaranteedExecutionFee': '0.0', 'halfSpreadCost': '0.047'}, {'tradeID': '81', 'units': '-1000.0', 'price': 1.09877, 'realizedPL': '20.26', 'financing': '0.0', 'guaranteedExecutionFee': '0.0', 'halfSpreadCost': '0.047'}, {'tradeID': '84', 'units': '-1000.0', 'price': 1.09877, 'realizedPL': '20.1821', 'financing': '0.0', 'guaranteedExecutionFee': '0.0', 'halfSpreadCost': '0.047'}, {'tradeID': '87', 'units': '-1000.0', 'price': 1.09877, 'realizedPL': '20.2366', 'financing': '0.0', 'guaranteedExecutionFee': '0.0', 'halfSpreadCost': '0.047'}, {'tradeID': '90', 'units': '-1000.0', 'price': 1.09877, 'realizedPL': '20.2912', 'financing': '0.0', 'guaranteedExecutionFee': '0.0', 'halfSpreadCost': '0.047'}, {'tradeID': '256', 'units': '-1000.0', 'price': 1.09877, 'realizedPL': '-0.1181', 'financing': '0.0', 'guaranteedExecutionFee': '0.0', 'halfSpreadCost': '0.047'}], 'halfSpreadCost': '0.376'} \n",
      "\n"
     ]
    }
   ],
   "source": [
    "# As far as I can see, the way to close an order is to create another of negative value. Buying -100 units is the same as selling 100 I guess.\n",
    "\n",
    "api.create_order(\n",
    "    instrument=\"EUR_USD\",\n",
    "    units=-1000,\n",
    "    sl_distance=1\n",
    ")"
   ],
   "metadata": {
    "collapsed": false,
    "ExecuteTime": {
     "end_time": "2023-06-22T00:43:24.628531400Z",
     "start_time": "2023-06-22T00:43:24.412031800Z"
    }
   }
  },
  {
   "cell_type": "markdown",
   "source": [
    "# Summary\n",
    "The OANDA API is very useful for us. In this little notebook we've learnt how to:\n",
    "- Set up the API\n",
    "- Get our account info\n",
    "- Get historical data for any instrument in any timeframe we want\n",
    "- Stream real-time data\n",
    "- Place new orders\n",
    "\n",
    "Wow!"
   ],
   "metadata": {
    "collapsed": false
   }
  }
 ],
 "metadata": {
  "kernelspec": {
   "display_name": "Python 3",
   "language": "python",
   "name": "python3"
  },
  "language_info": {
   "codemirror_mode": {
    "name": "ipython",
    "version": 2
   },
   "file_extension": ".py",
   "mimetype": "text/x-python",
   "name": "python",
   "nbconvert_exporter": "python",
   "pygments_lexer": "ipython2",
   "version": "2.7.6"
  }
 },
 "nbformat": 4,
 "nbformat_minor": 0
}
