{
 "cells": [
  {
   "cell_type": "markdown",
   "metadata": {},
   "source": [
    "# First Steps with the OANDA API"
   ]
  },
  {
   "cell_type": "markdown",
   "metadata": {},
   "source": [
    "### This notebook is from section 71: Getting the API Key\n",
    "We will need a file to store our api credentials, for security reasons I will not be uploading mine, but it is an \"oanda.cfg\" file with the following info:\n",
    "\n",
    "```\n",
    "[oanda]\n",
    "account_id = xxx-xxx-xxxxxxx-xxxxx\n",
    "access_token = xxxxxxxxxxxxxxxxxxxxxxxx-xxxxxxxxxxxxxxxxxxxx\n",
    "account_type = practice\n",
    "```\n",
    "\n"
   ]
  },
  {
   "cell_type": "markdown",
   "metadata": {},
   "source": [
    "## Connecting to the API / Server"
   ]
  },
  {
   "cell_type": "code",
   "execution_count": 6,
   "metadata": {
    "ExecuteTime": {
     "end_time": "2023-06-20T21:21:17.605141500Z",
     "start_time": "2023-06-20T21:21:17.545643600Z"
    }
   },
   "outputs": [],
   "source": [
    "import pandas as pd\n",
    "import tpqoa"
   ]
  },
  {
   "cell_type": "code",
   "execution_count": 7,
   "metadata": {
    "ExecuteTime": {
     "end_time": "2023-06-20T21:21:20.086642900Z",
     "start_time": "2023-06-20T21:21:20.036143800Z"
    }
   },
   "outputs": [],
   "source": [
    "api = tpqoa.tpqoa(\"oanda.cfg\")"
   ]
  },
  {
   "cell_type": "code",
   "execution_count": 8,
   "metadata": {},
   "outputs": [
    {
     "data": {
      "text/plain": [
       "{'id': '101-004-24104852-001',\n",
       " 'alias': 'Primary',\n",
       " 'currency': 'GBP',\n",
       " 'balance': '99926.4361',\n",
       " 'createdByUserID': 24104852,\n",
       " 'createdTime': '2022-12-06T00:19:59.560708117Z',\n",
       " 'guaranteedStopLossOrderMode': 'ALLOWED',\n",
       " 'pl': '-13.9973',\n",
       " 'resettablePL': '-13.9973',\n",
       " 'resettablePLTime': '0',\n",
       " 'financing': '-59.5666',\n",
       " 'commission': '0.0',\n",
       " 'guaranteedExecutionFees': '0.0',\n",
       " 'marginRate': '0.03333333333333',\n",
       " 'openTradeCount': 7,\n",
       " 'openPositionCount': 1,\n",
       " 'pendingOrderCount': 7,\n",
       " 'hedgingEnabled': False,\n",
       " 'unrealizedPL': '101.9188',\n",
       " 'NAV': '100028.3549',\n",
       " 'marginUsed': '199.6447',\n",
       " 'marginAvailable': '99829.1774',\n",
       " 'positionValue': '5989.34',\n",
       " 'marginCloseoutUnrealizedPL': '103.7318',\n",
       " 'marginCloseoutNAV': '100030.1679',\n",
       " 'marginCloseoutMarginUsed': '199.6447',\n",
       " 'marginCloseoutPercent': '0.001',\n",
       " 'marginCloseoutPositionValue': '5989.34',\n",
       " 'withdrawalLimit': '99829.1774',\n",
       " 'marginCallMarginUsed': '199.6447',\n",
       " 'marginCallPercent': '0.002',\n",
       " 'lastTransactionID': '253'}"
      ]
     },
     "execution_count": 8,
     "metadata": {},
     "output_type": "execute_result"
    }
   ],
   "source": [
    "api.get_account_summary()"
   ]
  },
  {
   "cell_type": "code",
   "execution_count": 9,
   "metadata": {},
   "outputs": [
    {
     "data": {
      "text/plain": [
       "'practice'"
      ]
     },
     "execution_count": 9,
     "metadata": {},
     "output_type": "execute_result"
    }
   ],
   "source": [
    "api.account_type"
   ]
  },
  {
   "cell_type": "code",
   "execution_count": 10,
   "metadata": {},
   "outputs": [
    {
     "data": {
      "text/plain": [
       "'101-004-24104852-001'"
      ]
     },
     "execution_count": 10,
     "metadata": {},
     "output_type": "execute_result"
    }
   ],
   "source": [
    "api.account_id"
   ]
  },
  {
   "cell_type": "code",
   "execution_count": 11,
   "metadata": {},
   "outputs": [
    {
     "data": {
      "text/plain": [
       "[('GBP/SGD', 'GBP_SGD'),\n",
       " ('USD/SEK', 'USD_SEK'),\n",
       " ('EUR/DKK', 'EUR_DKK'),\n",
       " ('Brent Crude Oil', 'BCO_USD'),\n",
       " ('CAD/CHF', 'CAD_CHF'),\n",
       " ('Silver/SGD', 'XAG_SGD'),\n",
       " ('USD/CZK', 'USD_CZK'),\n",
       " ('Gold/GBP', 'XAU_GBP'),\n",
       " ('USD/ZAR', 'USD_ZAR'),\n",
       " ('Gold/NZD', 'XAU_NZD'),\n",
       " ('USD/DKK', 'USD_DKK'),\n",
       " ('Gold/CHF', 'XAU_CHF'),\n",
       " ('GBP/USD', 'GBP_USD'),\n",
       " ('USD/MXN', 'USD_MXN'),\n",
       " ('UK 10Y Gilt', 'UK10YB_GBP'),\n",
       " ('USD/HUF', 'USD_HUF'),\n",
       " ('EUR/CAD', 'EUR_CAD'),\n",
       " ('Japan 225', 'JP225_USD'),\n",
       " ('Silver/CAD', 'XAG_CAD'),\n",
       " ('EUR/USD', 'EUR_USD'),\n",
       " ('Singapore 30', 'SG30_SGD'),\n",
       " ('Platinum', 'XPT_USD'),\n",
       " ('Gold/EUR', 'XAU_EUR'),\n",
       " ('CAD/JPY', 'CAD_JPY'),\n",
       " ('NZD/HKD', 'NZD_HKD'),\n",
       " ('Germany 30', 'DE30_EUR'),\n",
       " ('USD/HKD', 'USD_HKD'),\n",
       " ('AUD/JPY', 'AUD_JPY'),\n",
       " ('China A50', 'CN50_USD'),\n",
       " ('ZAR/JPY', 'ZAR_JPY'),\n",
       " ('Silver/JPY', 'XAG_JPY'),\n",
       " ('GBP/ZAR', 'GBP_ZAR'),\n",
       " ('SGD/JPY', 'SGD_JPY'),\n",
       " ('USD/JPY', 'USD_JPY'),\n",
       " ('EUR/TRY', 'EUR_TRY'),\n",
       " ('EUR/JPY', 'EUR_JPY'),\n",
       " ('Taiwan Index', 'TWIX_USD'),\n",
       " ('AUD/SGD', 'AUD_SGD'),\n",
       " ('Silver/NZD', 'XAG_NZD'),\n",
       " ('West Texas Oil', 'WTICO_USD'),\n",
       " ('Silver/AUD', 'XAG_AUD'),\n",
       " ('EUR/NZD', 'EUR_NZD'),\n",
       " ('GBP/HKD', 'GBP_HKD'),\n",
       " ('CHF/JPY', 'CHF_JPY'),\n",
       " ('EUR/HKD', 'EUR_HKD'),\n",
       " ('GBP/CAD', 'GBP_CAD'),\n",
       " ('Gold/HKD', 'XAU_HKD'),\n",
       " ('Gold/JPY', 'XAU_JPY'),\n",
       " ('USD/THB', 'USD_THB'),\n",
       " ('GBP/CHF', 'GBP_CHF'),\n",
       " ('AUD/CHF', 'AUD_CHF'),\n",
       " ('Spain 35', 'ESPIX_EUR'),\n",
       " ('NZD/CHF', 'NZD_CHF'),\n",
       " ('AUD/HKD', 'AUD_HKD'),\n",
       " ('Silver/HKD', 'XAG_HKD'),\n",
       " ('USD/CHF', 'USD_CHF'),\n",
       " ('Silver/CHF', 'XAG_CHF'),\n",
       " ('Switzerland 20', 'CH20_CHF'),\n",
       " ('CAD/HKD', 'CAD_HKD'),\n",
       " ('Palladium', 'XPD_USD'),\n",
       " ('Natural Gas', 'NATGAS_USD'),\n",
       " ('AUD/CAD', 'AUD_CAD'),\n",
       " ('GBP/PLN', 'GBP_PLN'),\n",
       " ('Bund', 'DE10YB_EUR'),\n",
       " ('EUR/PLN', 'EUR_PLN'),\n",
       " ('Sugar', 'SUGAR_USD'),\n",
       " ('GBP/NZD', 'GBP_NZD'),\n",
       " ('EUR/HUF', 'EUR_HUF'),\n",
       " ('UK 100', 'UK100_GBP'),\n",
       " ('Japan 225 (JPY)', 'JP225Y_JPY'),\n",
       " ('Gold', 'XAU_USD'),\n",
       " ('EUR/NOK', 'EUR_NOK'),\n",
       " ('US Wall St 30', 'US30_USD'),\n",
       " ('CHF/HKD', 'CHF_HKD'),\n",
       " ('France 40', 'FR40_EUR'),\n",
       " ('EUR/GBP', 'EUR_GBP'),\n",
       " ('AUD/NZD', 'AUD_NZD'),\n",
       " ('CAD/SGD', 'CAD_SGD'),\n",
       " ('Wheat', 'WHEAT_USD'),\n",
       " ('Gold/AUD', 'XAU_AUD'),\n",
       " ('EUR/CZK', 'EUR_CZK'),\n",
       " ('NZD/JPY', 'NZD_JPY'),\n",
       " ('US 5Y T-Note', 'USB05Y_USD'),\n",
       " ('US T-Bond', 'USB30Y_USD'),\n",
       " ('Silver', 'XAG_USD'),\n",
       " ('USD/TRY', 'USD_TRY'),\n",
       " ('GBP/JPY', 'GBP_JPY'),\n",
       " ('US SPX 500', 'SPX500_USD'),\n",
       " ('SGD/CHF', 'SGD_CHF'),\n",
       " ('Copper', 'XCU_USD'),\n",
       " ('US 2Y T-Note', 'USB02Y_USD'),\n",
       " ('USD/CNH', 'USD_CNH'),\n",
       " ('USD/NOK', 'USD_NOK'),\n",
       " ('NZD/SGD', 'NZD_SGD'),\n",
       " ('Hong Kong 33', 'HK33_HKD'),\n",
       " ('Silver/GBP', 'XAG_GBP'),\n",
       " ('Silver/EUR', 'XAG_EUR'),\n",
       " ('NZD/USD', 'NZD_USD'),\n",
       " ('US 10Y T-Note', 'USB10Y_USD'),\n",
       " ('US Russ 2000', 'US2000_USD'),\n",
       " ('USD/CAD', 'USD_CAD'),\n",
       " ('AUD/USD', 'AUD_USD'),\n",
       " ('CHF/ZAR', 'CHF_ZAR'),\n",
       " ('HKD/JPY', 'HKD_JPY'),\n",
       " ('EUR/SEK', 'EUR_SEK'),\n",
       " ('USD/SGD', 'USD_SGD'),\n",
       " ('TRY/JPY', 'TRY_JPY'),\n",
       " ('Europe 50', 'EU50_EUR'),\n",
       " ('NZD/CAD', 'NZD_CAD'),\n",
       " ('EUR/SGD', 'EUR_SGD'),\n",
       " ('EUR/AUD', 'EUR_AUD'),\n",
       " ('Gold/CAD', 'XAU_CAD'),\n",
       " ('Gold/Silver', 'XAU_XAG'),\n",
       " ('Australia 200', 'AU200_AUD'),\n",
       " ('Soybeans', 'SOYBN_USD'),\n",
       " ('Corn', 'CORN_USD'),\n",
       " ('Gold/SGD', 'XAU_SGD'),\n",
       " ('GBP/AUD', 'GBP_AUD'),\n",
       " ('USD/PLN', 'USD_PLN'),\n",
       " ('US Nas 100', 'NAS100_USD'),\n",
       " ('EUR/CHF', 'EUR_CHF'),\n",
       " ('EUR/ZAR', 'EUR_ZAR'),\n",
       " ('China H Shares', 'CHINAH_HKD'),\n",
       " ('Netherlands 25', 'NL25_EUR')]"
      ]
     },
     "execution_count": 11,
     "metadata": {},
     "output_type": "execute_result"
    }
   ],
   "source": [
    "api.get_instruments()"
   ]
  },
  {
   "cell_type": "code",
   "execution_count": 12,
   "metadata": {},
   "outputs": [],
   "source": [
    "instr = api.get_instruments()"
   ]
  },
  {
   "cell_type": "code",
   "execution_count": 13,
   "metadata": {},
   "outputs": [
    {
     "data": {
      "text/plain": [
       "124"
      ]
     },
     "execution_count": 13,
     "metadata": {},
     "output_type": "execute_result"
    }
   ],
   "source": [
    "len(instr)"
   ]
  },
  {
   "cell_type": "code",
   "execution_count": 14,
   "metadata": {},
   "outputs": [
    {
     "data": {
      "text/plain": [
       "('GBP/SGD', 'GBP_SGD')"
      ]
     },
     "execution_count": 14,
     "metadata": {},
     "output_type": "execute_result"
    }
   ],
   "source": [
    "instr[0]"
   ]
  },
  {
   "cell_type": "code",
   "execution_count": null,
   "metadata": {},
   "outputs": [],
   "source": []
  },
  {
   "cell_type": "markdown",
   "metadata": {},
   "source": [
    "## Getting Historical Data (Part 1)"
   ]
  },
  {
   "cell_type": "code",
   "execution_count": 1,
   "metadata": {
    "ExecuteTime": {
     "end_time": "2023-06-21T23:40:06.258030700Z",
     "start_time": "2023-06-21T23:40:00.874531800Z"
    }
   },
   "outputs": [],
   "source": [
    "import pandas as pd\n",
    "import tpqoa"
   ]
  },
  {
   "cell_type": "code",
   "execution_count": 2,
   "metadata": {
    "ExecuteTime": {
     "end_time": "2023-06-21T23:40:32.233031800Z",
     "start_time": "2023-06-21T23:40:32.209530300Z"
    }
   },
   "outputs": [],
   "source": [
    "api = tpqoa.tpqoa(\"oanda.cfg\")"
   ]
  },
  {
   "cell_type": "code",
   "execution_count": 3,
   "metadata": {
    "ExecuteTime": {
     "end_time": "2023-06-21T23:40:35.260032400Z",
     "start_time": "2023-06-21T23:40:35.232033400Z"
    }
   },
   "outputs": [
    {
     "name": "stdout",
     "output_type": "stream",
     "text": [
      "Help on method get_history in module tpqoa.tpqoa:\n",
      "\n",
      "get_history(instrument, start, end, granularity, price) method of tpqoa.tpqoa.tpqoa instance\n",
      "    Retrieves historical data for instrument.\n",
      "    \n",
      "    Parameters\n",
      "    ==========\n",
      "    instrument: string\n",
      "        valid instrument name\n",
      "    start, end: datetime, str\n",
      "        Python datetime or string objects for start and end\n",
      "    granularity: string\n",
      "        a string like 'S5', 'M1' or 'D'\n",
      "    price: string\n",
      "        one of 'A' (ask) or 'B' (bid)\n",
      "    \n",
      "    Returns\n",
      "    =======\n",
      "    data: pd.DataFrame\n",
      "        pandas DataFrame object with data\n",
      "\n"
     ]
    }
   ],
   "source": [
    "help(api.get_history)"
   ]
  },
  {
   "cell_type": "code",
   "execution_count": 4,
   "metadata": {
    "scrolled": false,
    "ExecuteTime": {
     "end_time": "2023-06-21T23:40:47.676532900Z",
     "start_time": "2023-06-21T23:40:47.006532Z"
    }
   },
   "outputs": [
    {
     "data": {
      "text/plain": "                           volume  complete        o        h        l  \\\ntime                                                                     \n2020-06-30 21:00:00+00:00   90252      True  1.12293  1.12744  1.11837   \n2020-07-01 21:00:00+00:00   90789      True  1.12501  1.13020  1.12188   \n2020-07-02 21:00:00+00:00   59036      True  1.12384  1.12492  1.12186   \n2020-07-05 21:00:00+00:00   81756      True  1.12423  1.13449  1.12391   \n2020-07-06 21:00:00+00:00   92426      True  1.13070  1.13318  1.12581   \n2020-07-07 21:00:00+00:00   89549      True  1.12717  1.13505  1.12615   \n2020-07-08 21:00:00+00:00  104729      True  1.13287  1.13699  1.12774   \n2020-07-09 21:00:00+00:00   81510      True  1.12808  1.13242  1.12540   \n2020-07-12 21:00:00+00:00   86512      True  1.13042  1.13744  1.13002   \n2020-07-13 21:00:00+00:00  106478      True  1.13420  1.14081  1.13232   \n2020-07-14 21:00:00+00:00  100308      True  1.13979  1.14512  1.13901   \n2020-07-15 21:00:00+00:00  102144      True  1.14108  1.14411  1.13698   \n2020-07-16 21:00:00+00:00   73024      True  1.13827  1.14432  1.13737   \n2020-07-19 21:00:00+00:00  104209      True  1.14088  1.14672  1.14017   \n2020-07-20 21:00:00+00:00  111043      True  1.14461  1.15391  1.14223   \n2020-07-21 21:00:00+00:00  129890      True  1.15257  1.16009  1.15059   \n2020-07-22 21:00:00+00:00  115345      True  1.15634  1.16260  1.15397   \n2020-07-23 21:00:00+00:00  115447      True  1.15920  1.16571  1.15806   \n2020-07-26 21:00:00+00:00  123653      True  1.16420  1.17809  1.16387   \n2020-07-27 21:00:00+00:00  126006      True  1.17502  1.17729  1.16980   \n2020-07-28 21:00:00+00:00  121087      True  1.17145  1.18054  1.17114   \n2020-07-29 21:00:00+00:00  128163      True  1.17904  1.18475  1.17304   \n2020-07-30 21:00:00+00:00  154943      True  1.18465  1.19081  1.17602   \n\n                                 c  \ntime                                \n2020-06-30 21:00:00+00:00  1.12501  \n2020-07-01 21:00:00+00:00  1.12384  \n2020-07-02 21:00:00+00:00  1.12429  \n2020-07-05 21:00:00+00:00  1.13076  \n2020-07-06 21:00:00+00:00  1.12726  \n2020-07-07 21:00:00+00:00  1.13287  \n2020-07-08 21:00:00+00:00  1.12837  \n2020-07-09 21:00:00+00:00  1.12977  \n2020-07-12 21:00:00+00:00  1.13420  \n2020-07-13 21:00:00+00:00  1.13985  \n2020-07-14 21:00:00+00:00  1.14108  \n2020-07-15 21:00:00+00:00  1.13827  \n2020-07-16 21:00:00+00:00  1.14252  \n2020-07-19 21:00:00+00:00  1.14461  \n2020-07-20 21:00:00+00:00  1.15257  \n2020-07-21 21:00:00+00:00  1.15687  \n2020-07-22 21:00:00+00:00  1.15952  \n2020-07-23 21:00:00+00:00  1.16540  \n2020-07-26 21:00:00+00:00  1.17502  \n2020-07-27 21:00:00+00:00  1.17138  \n2020-07-28 21:00:00+00:00  1.17904  \n2020-07-29 21:00:00+00:00  1.18465  \n2020-07-30 21:00:00+00:00  1.17751  ",
      "text/html": "<div>\n<style scoped>\n    .dataframe tbody tr th:only-of-type {\n        vertical-align: middle;\n    }\n\n    .dataframe tbody tr th {\n        vertical-align: top;\n    }\n\n    .dataframe thead th {\n        text-align: right;\n    }\n</style>\n<table border=\"1\" class=\"dataframe\">\n  <thead>\n    <tr style=\"text-align: right;\">\n      <th></th>\n      <th>volume</th>\n      <th>complete</th>\n      <th>o</th>\n      <th>h</th>\n      <th>l</th>\n      <th>c</th>\n    </tr>\n    <tr>\n      <th>time</th>\n      <th></th>\n      <th></th>\n      <th></th>\n      <th></th>\n      <th></th>\n      <th></th>\n    </tr>\n  </thead>\n  <tbody>\n    <tr>\n      <th>2020-06-30 21:00:00+00:00</th>\n      <td>90252</td>\n      <td>True</td>\n      <td>1.12293</td>\n      <td>1.12744</td>\n      <td>1.11837</td>\n      <td>1.12501</td>\n    </tr>\n    <tr>\n      <th>2020-07-01 21:00:00+00:00</th>\n      <td>90789</td>\n      <td>True</td>\n      <td>1.12501</td>\n      <td>1.13020</td>\n      <td>1.12188</td>\n      <td>1.12384</td>\n    </tr>\n    <tr>\n      <th>2020-07-02 21:00:00+00:00</th>\n      <td>59036</td>\n      <td>True</td>\n      <td>1.12384</td>\n      <td>1.12492</td>\n      <td>1.12186</td>\n      <td>1.12429</td>\n    </tr>\n    <tr>\n      <th>2020-07-05 21:00:00+00:00</th>\n      <td>81756</td>\n      <td>True</td>\n      <td>1.12423</td>\n      <td>1.13449</td>\n      <td>1.12391</td>\n      <td>1.13076</td>\n    </tr>\n    <tr>\n      <th>2020-07-06 21:00:00+00:00</th>\n      <td>92426</td>\n      <td>True</td>\n      <td>1.13070</td>\n      <td>1.13318</td>\n      <td>1.12581</td>\n      <td>1.12726</td>\n    </tr>\n    <tr>\n      <th>2020-07-07 21:00:00+00:00</th>\n      <td>89549</td>\n      <td>True</td>\n      <td>1.12717</td>\n      <td>1.13505</td>\n      <td>1.12615</td>\n      <td>1.13287</td>\n    </tr>\n    <tr>\n      <th>2020-07-08 21:00:00+00:00</th>\n      <td>104729</td>\n      <td>True</td>\n      <td>1.13287</td>\n      <td>1.13699</td>\n      <td>1.12774</td>\n      <td>1.12837</td>\n    </tr>\n    <tr>\n      <th>2020-07-09 21:00:00+00:00</th>\n      <td>81510</td>\n      <td>True</td>\n      <td>1.12808</td>\n      <td>1.13242</td>\n      <td>1.12540</td>\n      <td>1.12977</td>\n    </tr>\n    <tr>\n      <th>2020-07-12 21:00:00+00:00</th>\n      <td>86512</td>\n      <td>True</td>\n      <td>1.13042</td>\n      <td>1.13744</td>\n      <td>1.13002</td>\n      <td>1.13420</td>\n    </tr>\n    <tr>\n      <th>2020-07-13 21:00:00+00:00</th>\n      <td>106478</td>\n      <td>True</td>\n      <td>1.13420</td>\n      <td>1.14081</td>\n      <td>1.13232</td>\n      <td>1.13985</td>\n    </tr>\n    <tr>\n      <th>2020-07-14 21:00:00+00:00</th>\n      <td>100308</td>\n      <td>True</td>\n      <td>1.13979</td>\n      <td>1.14512</td>\n      <td>1.13901</td>\n      <td>1.14108</td>\n    </tr>\n    <tr>\n      <th>2020-07-15 21:00:00+00:00</th>\n      <td>102144</td>\n      <td>True</td>\n      <td>1.14108</td>\n      <td>1.14411</td>\n      <td>1.13698</td>\n      <td>1.13827</td>\n    </tr>\n    <tr>\n      <th>2020-07-16 21:00:00+00:00</th>\n      <td>73024</td>\n      <td>True</td>\n      <td>1.13827</td>\n      <td>1.14432</td>\n      <td>1.13737</td>\n      <td>1.14252</td>\n    </tr>\n    <tr>\n      <th>2020-07-19 21:00:00+00:00</th>\n      <td>104209</td>\n      <td>True</td>\n      <td>1.14088</td>\n      <td>1.14672</td>\n      <td>1.14017</td>\n      <td>1.14461</td>\n    </tr>\n    <tr>\n      <th>2020-07-20 21:00:00+00:00</th>\n      <td>111043</td>\n      <td>True</td>\n      <td>1.14461</td>\n      <td>1.15391</td>\n      <td>1.14223</td>\n      <td>1.15257</td>\n    </tr>\n    <tr>\n      <th>2020-07-21 21:00:00+00:00</th>\n      <td>129890</td>\n      <td>True</td>\n      <td>1.15257</td>\n      <td>1.16009</td>\n      <td>1.15059</td>\n      <td>1.15687</td>\n    </tr>\n    <tr>\n      <th>2020-07-22 21:00:00+00:00</th>\n      <td>115345</td>\n      <td>True</td>\n      <td>1.15634</td>\n      <td>1.16260</td>\n      <td>1.15397</td>\n      <td>1.15952</td>\n    </tr>\n    <tr>\n      <th>2020-07-23 21:00:00+00:00</th>\n      <td>115447</td>\n      <td>True</td>\n      <td>1.15920</td>\n      <td>1.16571</td>\n      <td>1.15806</td>\n      <td>1.16540</td>\n    </tr>\n    <tr>\n      <th>2020-07-26 21:00:00+00:00</th>\n      <td>123653</td>\n      <td>True</td>\n      <td>1.16420</td>\n      <td>1.17809</td>\n      <td>1.16387</td>\n      <td>1.17502</td>\n    </tr>\n    <tr>\n      <th>2020-07-27 21:00:00+00:00</th>\n      <td>126006</td>\n      <td>True</td>\n      <td>1.17502</td>\n      <td>1.17729</td>\n      <td>1.16980</td>\n      <td>1.17138</td>\n    </tr>\n    <tr>\n      <th>2020-07-28 21:00:00+00:00</th>\n      <td>121087</td>\n      <td>True</td>\n      <td>1.17145</td>\n      <td>1.18054</td>\n      <td>1.17114</td>\n      <td>1.17904</td>\n    </tr>\n    <tr>\n      <th>2020-07-29 21:00:00+00:00</th>\n      <td>128163</td>\n      <td>True</td>\n      <td>1.17904</td>\n      <td>1.18475</td>\n      <td>1.17304</td>\n      <td>1.18465</td>\n    </tr>\n    <tr>\n      <th>2020-07-30 21:00:00+00:00</th>\n      <td>154943</td>\n      <td>True</td>\n      <td>1.18465</td>\n      <td>1.19081</td>\n      <td>1.17602</td>\n      <td>1.17751</td>\n    </tr>\n  </tbody>\n</table>\n</div>"
     },
     "execution_count": 4,
     "metadata": {},
     "output_type": "execute_result"
    }
   ],
   "source": [
    "api.get_history(instrument = \"EUR_USD\", start = \"2020-07-01\", end = \"2020-07-31\",\n",
    "                granularity = \"D\", price = \"B\")"
   ]
  },
  {
   "cell_type": "code",
   "execution_count": 5,
   "metadata": {
    "ExecuteTime": {
     "end_time": "2023-06-21T23:41:22.674029600Z",
     "start_time": "2023-06-21T23:41:22.499030Z"
    }
   },
   "outputs": [],
   "source": [
    "df = api.get_history(instrument = \"EUR_USD\", start = \"2020-07-01\", end = \"2020-07-31\",\n",
    "                granularity = \"D\", price = \"B\")"
   ]
  },
  {
   "cell_type": "code",
   "execution_count": 6,
   "metadata": {
    "ExecuteTime": {
     "end_time": "2023-06-21T23:41:25.538031200Z",
     "start_time": "2023-06-21T23:41:25.465029400Z"
    }
   },
   "outputs": [
    {
     "name": "stdout",
     "output_type": "stream",
     "text": [
      "<class 'pandas.core.frame.DataFrame'>\n",
      "DatetimeIndex: 23 entries, 2020-06-30 21:00:00+00:00 to 2020-07-30 21:00:00+00:00\n",
      "Data columns (total 6 columns):\n",
      " #   Column    Non-Null Count  Dtype  \n",
      "---  ------    --------------  -----  \n",
      " 0   volume    23 non-null     int64  \n",
      " 1   complete  23 non-null     bool   \n",
      " 2   o         23 non-null     float64\n",
      " 3   h         23 non-null     float64\n",
      " 4   l         23 non-null     float64\n",
      " 5   c         23 non-null     float64\n",
      "dtypes: bool(1), float64(4), int64(1)\n",
      "memory usage: 1.1 KB\n"
     ]
    }
   ],
   "source": [
    "df.info()"
   ]
  },
  {
   "cell_type": "code",
   "execution_count": 7,
   "metadata": {
    "scrolled": false,
    "ExecuteTime": {
     "end_time": "2023-06-21T23:41:38.068031200Z",
     "start_time": "2023-06-21T23:41:37.917532100Z"
    }
   },
   "outputs": [
    {
     "data": {
      "text/plain": "                           volume  complete        o        h        l  \\\ntime                                                                     \n2020-06-30 21:00:00+00:00   90252      True  1.12393  1.12758  1.11858   \n\n                                 c  \ntime                                \n2020-06-30 21:00:00+00:00  1.12527  ",
      "text/html": "<div>\n<style scoped>\n    .dataframe tbody tr th:only-of-type {\n        vertical-align: middle;\n    }\n\n    .dataframe tbody tr th {\n        vertical-align: top;\n    }\n\n    .dataframe thead th {\n        text-align: right;\n    }\n</style>\n<table border=\"1\" class=\"dataframe\">\n  <thead>\n    <tr style=\"text-align: right;\">\n      <th></th>\n      <th>volume</th>\n      <th>complete</th>\n      <th>o</th>\n      <th>h</th>\n      <th>l</th>\n      <th>c</th>\n    </tr>\n    <tr>\n      <th>time</th>\n      <th></th>\n      <th></th>\n      <th></th>\n      <th></th>\n      <th></th>\n      <th></th>\n    </tr>\n  </thead>\n  <tbody>\n    <tr>\n      <th>2020-06-30 21:00:00+00:00</th>\n      <td>90252</td>\n      <td>True</td>\n      <td>1.12393</td>\n      <td>1.12758</td>\n      <td>1.11858</td>\n      <td>1.12527</td>\n    </tr>\n  </tbody>\n</table>\n</div>"
     },
     "execution_count": 7,
     "metadata": {},
     "output_type": "execute_result"
    }
   ],
   "source": [
    "api.get_history(instrument = \"EUR_USD\", start = \"2020-07-01\", end = \"2020-07-01\",\n",
    "                granularity = \"D\", price = \"A\")"
   ]
  },
  {
   "cell_type": "code",
   "execution_count": 8,
   "metadata": {
    "ExecuteTime": {
     "end_time": "2023-06-21T23:41:42.824529200Z",
     "start_time": "2023-06-21T23:41:42.642529600Z"
    }
   },
   "outputs": [
    {
     "data": {
      "text/plain": "                           volume  complete        o        h        l  \\\ntime                                                                     \n2020-06-30 21:00:00+00:00   90252      True  1.12293  1.12744  1.11837   \n\n                                 c  \ntime                                \n2020-06-30 21:00:00+00:00  1.12501  ",
      "text/html": "<div>\n<style scoped>\n    .dataframe tbody tr th:only-of-type {\n        vertical-align: middle;\n    }\n\n    .dataframe tbody tr th {\n        vertical-align: top;\n    }\n\n    .dataframe thead th {\n        text-align: right;\n    }\n</style>\n<table border=\"1\" class=\"dataframe\">\n  <thead>\n    <tr style=\"text-align: right;\">\n      <th></th>\n      <th>volume</th>\n      <th>complete</th>\n      <th>o</th>\n      <th>h</th>\n      <th>l</th>\n      <th>c</th>\n    </tr>\n    <tr>\n      <th>time</th>\n      <th></th>\n      <th></th>\n      <th></th>\n      <th></th>\n      <th></th>\n      <th></th>\n    </tr>\n  </thead>\n  <tbody>\n    <tr>\n      <th>2020-06-30 21:00:00+00:00</th>\n      <td>90252</td>\n      <td>True</td>\n      <td>1.12293</td>\n      <td>1.12744</td>\n      <td>1.11837</td>\n      <td>1.12501</td>\n    </tr>\n  </tbody>\n</table>\n</div>"
     },
     "execution_count": 8,
     "metadata": {},
     "output_type": "execute_result"
    }
   ],
   "source": [
    "api.get_history(instrument = \"EUR_USD\", start = \"2020-07-01\", end = \"2020-07-01\",\n",
    "                granularity = \"D\", price = \"B\")"
   ]
  },
  {
   "cell_type": "code",
   "execution_count": null,
   "metadata": {},
   "outputs": [],
   "source": []
  },
  {
   "cell_type": "markdown",
   "metadata": {},
   "source": [
    "## Getting Historical Data (Part 2)"
   ]
  },
  {
   "cell_type": "code",
   "execution_count": 9,
   "metadata": {
    "ExecuteTime": {
     "end_time": "2023-06-21T23:42:43.877532100Z",
     "start_time": "2023-06-21T23:42:43.657531900Z"
    }
   },
   "outputs": [
    {
     "data": {
      "text/plain": "                           volume  complete        o        h        l  \\\ntime                                                                     \n2020-08-03 00:00:00+00:00    6315      True  1.17821  1.17900  1.17418   \n2020-08-03 01:00:00+00:00    4786      True  1.17544  1.17732  1.17461   \n2020-08-03 02:00:00+00:00    2092      True  1.17720  1.17744  1.17638   \n2020-08-03 03:00:00+00:00    1561      True  1.17693  1.17768  1.17672   \n2020-08-03 04:00:00+00:00    1496      True  1.17739  1.17832  1.17722   \n2020-08-03 05:00:00+00:00    1959      True  1.17767  1.17799  1.17678   \n2020-08-03 06:00:00+00:00    5793      True  1.17748  1.17762  1.17495   \n2020-08-03 07:00:00+00:00    9003      True  1.17510  1.17687  1.17506   \n2020-08-03 08:00:00+00:00    8002      True  1.17632  1.17857  1.17601   \n2020-08-03 09:00:00+00:00    6627      True  1.17799  1.17804  1.17430   \n2020-08-03 10:00:00+00:00    7682      True  1.17451  1.17460  1.17149   \n2020-08-03 11:00:00+00:00    5557      True  1.17258  1.17354  1.17254   \n2020-08-03 12:00:00+00:00    7233      True  1.17259  1.17350  1.17068   \n2020-08-03 13:00:00+00:00    9396      True  1.17084  1.17250  1.16966   \n2020-08-03 14:00:00+00:00   11324      True  1.17240  1.17441  1.17224   \n2020-08-03 15:00:00+00:00    6837      True  1.17388  1.17514  1.17342   \n2020-08-03 16:00:00+00:00    3956      True  1.17503  1.17528  1.17390   \n2020-08-03 17:00:00+00:00    3572      True  1.17498  1.17593  1.17477   \n2020-08-03 18:00:00+00:00    3120      True  1.17526  1.17642  1.17516   \n2020-08-03 19:00:00+00:00    2793      True  1.17596  1.17666  1.17587   \n2020-08-03 20:00:00+00:00    1166      True  1.17648  1.17687  1.17630   \n2020-08-03 21:00:00+00:00     175      True  1.17632  1.17699  1.17618   \n2020-08-03 22:00:00+00:00     416      True  1.17629  1.17693  1.17603   \n2020-08-03 23:00:00+00:00     559      True  1.17615  1.17618  1.17569   \n2020-08-04 00:00:00+00:00    1472      True  1.17609  1.17624  1.17529   \n2020-08-04 01:00:00+00:00    1610      True  1.17546  1.17602  1.17540   \n2020-08-04 02:00:00+00:00    1475      True  1.17590  1.17741  1.17577   \n2020-08-04 03:00:00+00:00    1386      True  1.17729  1.17748  1.17642   \n2020-08-04 04:00:00+00:00    1169      True  1.17687  1.17754  1.17678   \n2020-08-04 05:00:00+00:00    1617      True  1.17746  1.17781  1.17648   \n2020-08-04 06:00:00+00:00    5409      True  1.17677  1.17809  1.17649   \n2020-08-04 07:00:00+00:00   11029      True  1.17780  1.18034  1.17725   \n2020-08-04 08:00:00+00:00    9091      True  1.17872  1.17959  1.17736   \n2020-08-04 09:00:00+00:00    7353      True  1.17933  1.18071  1.17928   \n2020-08-04 10:00:00+00:00    7140      True  1.17955  1.17961  1.17687   \n2020-08-04 11:00:00+00:00    7599      True  1.17709  1.17741  1.17553   \n2020-08-04 12:00:00+00:00   10370      True  1.17618  1.17719  1.17229   \n2020-08-04 13:00:00+00:00   10603      True  1.17291  1.17389  1.17221   \n2020-08-04 14:00:00+00:00   11371      True  1.17256  1.17652  1.17249   \n2020-08-04 15:00:00+00:00    7072      True  1.17574  1.17744  1.17514   \n2020-08-04 16:00:00+00:00    5020      True  1.17658  1.17785  1.17653   \n2020-08-04 17:00:00+00:00    3868      True  1.17784  1.17860  1.17767   \n2020-08-04 18:00:00+00:00    3394      True  1.17834  1.17924  1.17753   \n2020-08-04 19:00:00+00:00    3615      True  1.17828  1.18038  1.17827   \n2020-08-04 20:00:00+00:00    1088      True  1.18037  1.18043  1.17953   \n2020-08-04 21:00:00+00:00      53      True  1.18063  1.18063  1.17984   \n2020-08-04 22:00:00+00:00     675      True  1.17984  1.18013  1.17937   \n2020-08-04 23:00:00+00:00     897      True  1.17992  1.18161  1.17954   \n\n                                 c  \ntime                                \n2020-08-03 00:00:00+00:00  1.17543  \n2020-08-03 01:00:00+00:00  1.17722  \n2020-08-03 02:00:00+00:00  1.17691  \n2020-08-03 03:00:00+00:00  1.17741  \n2020-08-03 04:00:00+00:00  1.17770  \n2020-08-03 05:00:00+00:00  1.17746  \n2020-08-03 06:00:00+00:00  1.17508  \n2020-08-03 07:00:00+00:00  1.17631  \n2020-08-03 08:00:00+00:00  1.17798  \n2020-08-03 09:00:00+00:00  1.17452  \n2020-08-03 10:00:00+00:00  1.17257  \n2020-08-03 11:00:00+00:00  1.17260  \n2020-08-03 12:00:00+00:00  1.17083  \n2020-08-03 13:00:00+00:00  1.17241  \n2020-08-03 14:00:00+00:00  1.17388  \n2020-08-03 15:00:00+00:00  1.17504  \n2020-08-03 16:00:00+00:00  1.17499  \n2020-08-03 17:00:00+00:00  1.17526  \n2020-08-03 18:00:00+00:00  1.17598  \n2020-08-03 19:00:00+00:00  1.17649  \n2020-08-03 20:00:00+00:00  1.17632  \n2020-08-03 21:00:00+00:00  1.17639  \n2020-08-03 22:00:00+00:00  1.17613  \n2020-08-03 23:00:00+00:00  1.17611  \n2020-08-04 00:00:00+00:00  1.17545  \n2020-08-04 01:00:00+00:00  1.17592  \n2020-08-04 02:00:00+00:00  1.17730  \n2020-08-04 03:00:00+00:00  1.17686  \n2020-08-04 04:00:00+00:00  1.17747  \n2020-08-04 05:00:00+00:00  1.17675  \n2020-08-04 06:00:00+00:00  1.17777  \n2020-08-04 07:00:00+00:00  1.17874  \n2020-08-04 08:00:00+00:00  1.17936  \n2020-08-04 09:00:00+00:00  1.17955  \n2020-08-04 10:00:00+00:00  1.17708  \n2020-08-04 11:00:00+00:00  1.17620  \n2020-08-04 12:00:00+00:00  1.17290  \n2020-08-04 13:00:00+00:00  1.17254  \n2020-08-04 14:00:00+00:00  1.17573  \n2020-08-04 15:00:00+00:00  1.17659  \n2020-08-04 16:00:00+00:00  1.17785  \n2020-08-04 17:00:00+00:00  1.17835  \n2020-08-04 18:00:00+00:00  1.17830  \n2020-08-04 19:00:00+00:00  1.18033  \n2020-08-04 20:00:00+00:00  1.18040  \n2020-08-04 21:00:00+00:00  1.17989  \n2020-08-04 22:00:00+00:00  1.17990  \n2020-08-04 23:00:00+00:00  1.18148  ",
      "text/html": "<div>\n<style scoped>\n    .dataframe tbody tr th:only-of-type {\n        vertical-align: middle;\n    }\n\n    .dataframe tbody tr th {\n        vertical-align: top;\n    }\n\n    .dataframe thead th {\n        text-align: right;\n    }\n</style>\n<table border=\"1\" class=\"dataframe\">\n  <thead>\n    <tr style=\"text-align: right;\">\n      <th></th>\n      <th>volume</th>\n      <th>complete</th>\n      <th>o</th>\n      <th>h</th>\n      <th>l</th>\n      <th>c</th>\n    </tr>\n    <tr>\n      <th>time</th>\n      <th></th>\n      <th></th>\n      <th></th>\n      <th></th>\n      <th></th>\n      <th></th>\n    </tr>\n  </thead>\n  <tbody>\n    <tr>\n      <th>2020-08-03 00:00:00+00:00</th>\n      <td>6315</td>\n      <td>True</td>\n      <td>1.17821</td>\n      <td>1.17900</td>\n      <td>1.17418</td>\n      <td>1.17543</td>\n    </tr>\n    <tr>\n      <th>2020-08-03 01:00:00+00:00</th>\n      <td>4786</td>\n      <td>True</td>\n      <td>1.17544</td>\n      <td>1.17732</td>\n      <td>1.17461</td>\n      <td>1.17722</td>\n    </tr>\n    <tr>\n      <th>2020-08-03 02:00:00+00:00</th>\n      <td>2092</td>\n      <td>True</td>\n      <td>1.17720</td>\n      <td>1.17744</td>\n      <td>1.17638</td>\n      <td>1.17691</td>\n    </tr>\n    <tr>\n      <th>2020-08-03 03:00:00+00:00</th>\n      <td>1561</td>\n      <td>True</td>\n      <td>1.17693</td>\n      <td>1.17768</td>\n      <td>1.17672</td>\n      <td>1.17741</td>\n    </tr>\n    <tr>\n      <th>2020-08-03 04:00:00+00:00</th>\n      <td>1496</td>\n      <td>True</td>\n      <td>1.17739</td>\n      <td>1.17832</td>\n      <td>1.17722</td>\n      <td>1.17770</td>\n    </tr>\n    <tr>\n      <th>2020-08-03 05:00:00+00:00</th>\n      <td>1959</td>\n      <td>True</td>\n      <td>1.17767</td>\n      <td>1.17799</td>\n      <td>1.17678</td>\n      <td>1.17746</td>\n    </tr>\n    <tr>\n      <th>2020-08-03 06:00:00+00:00</th>\n      <td>5793</td>\n      <td>True</td>\n      <td>1.17748</td>\n      <td>1.17762</td>\n      <td>1.17495</td>\n      <td>1.17508</td>\n    </tr>\n    <tr>\n      <th>2020-08-03 07:00:00+00:00</th>\n      <td>9003</td>\n      <td>True</td>\n      <td>1.17510</td>\n      <td>1.17687</td>\n      <td>1.17506</td>\n      <td>1.17631</td>\n    </tr>\n    <tr>\n      <th>2020-08-03 08:00:00+00:00</th>\n      <td>8002</td>\n      <td>True</td>\n      <td>1.17632</td>\n      <td>1.17857</td>\n      <td>1.17601</td>\n      <td>1.17798</td>\n    </tr>\n    <tr>\n      <th>2020-08-03 09:00:00+00:00</th>\n      <td>6627</td>\n      <td>True</td>\n      <td>1.17799</td>\n      <td>1.17804</td>\n      <td>1.17430</td>\n      <td>1.17452</td>\n    </tr>\n    <tr>\n      <th>2020-08-03 10:00:00+00:00</th>\n      <td>7682</td>\n      <td>True</td>\n      <td>1.17451</td>\n      <td>1.17460</td>\n      <td>1.17149</td>\n      <td>1.17257</td>\n    </tr>\n    <tr>\n      <th>2020-08-03 11:00:00+00:00</th>\n      <td>5557</td>\n      <td>True</td>\n      <td>1.17258</td>\n      <td>1.17354</td>\n      <td>1.17254</td>\n      <td>1.17260</td>\n    </tr>\n    <tr>\n      <th>2020-08-03 12:00:00+00:00</th>\n      <td>7233</td>\n      <td>True</td>\n      <td>1.17259</td>\n      <td>1.17350</td>\n      <td>1.17068</td>\n      <td>1.17083</td>\n    </tr>\n    <tr>\n      <th>2020-08-03 13:00:00+00:00</th>\n      <td>9396</td>\n      <td>True</td>\n      <td>1.17084</td>\n      <td>1.17250</td>\n      <td>1.16966</td>\n      <td>1.17241</td>\n    </tr>\n    <tr>\n      <th>2020-08-03 14:00:00+00:00</th>\n      <td>11324</td>\n      <td>True</td>\n      <td>1.17240</td>\n      <td>1.17441</td>\n      <td>1.17224</td>\n      <td>1.17388</td>\n    </tr>\n    <tr>\n      <th>2020-08-03 15:00:00+00:00</th>\n      <td>6837</td>\n      <td>True</td>\n      <td>1.17388</td>\n      <td>1.17514</td>\n      <td>1.17342</td>\n      <td>1.17504</td>\n    </tr>\n    <tr>\n      <th>2020-08-03 16:00:00+00:00</th>\n      <td>3956</td>\n      <td>True</td>\n      <td>1.17503</td>\n      <td>1.17528</td>\n      <td>1.17390</td>\n      <td>1.17499</td>\n    </tr>\n    <tr>\n      <th>2020-08-03 17:00:00+00:00</th>\n      <td>3572</td>\n      <td>True</td>\n      <td>1.17498</td>\n      <td>1.17593</td>\n      <td>1.17477</td>\n      <td>1.17526</td>\n    </tr>\n    <tr>\n      <th>2020-08-03 18:00:00+00:00</th>\n      <td>3120</td>\n      <td>True</td>\n      <td>1.17526</td>\n      <td>1.17642</td>\n      <td>1.17516</td>\n      <td>1.17598</td>\n    </tr>\n    <tr>\n      <th>2020-08-03 19:00:00+00:00</th>\n      <td>2793</td>\n      <td>True</td>\n      <td>1.17596</td>\n      <td>1.17666</td>\n      <td>1.17587</td>\n      <td>1.17649</td>\n    </tr>\n    <tr>\n      <th>2020-08-03 20:00:00+00:00</th>\n      <td>1166</td>\n      <td>True</td>\n      <td>1.17648</td>\n      <td>1.17687</td>\n      <td>1.17630</td>\n      <td>1.17632</td>\n    </tr>\n    <tr>\n      <th>2020-08-03 21:00:00+00:00</th>\n      <td>175</td>\n      <td>True</td>\n      <td>1.17632</td>\n      <td>1.17699</td>\n      <td>1.17618</td>\n      <td>1.17639</td>\n    </tr>\n    <tr>\n      <th>2020-08-03 22:00:00+00:00</th>\n      <td>416</td>\n      <td>True</td>\n      <td>1.17629</td>\n      <td>1.17693</td>\n      <td>1.17603</td>\n      <td>1.17613</td>\n    </tr>\n    <tr>\n      <th>2020-08-03 23:00:00+00:00</th>\n      <td>559</td>\n      <td>True</td>\n      <td>1.17615</td>\n      <td>1.17618</td>\n      <td>1.17569</td>\n      <td>1.17611</td>\n    </tr>\n    <tr>\n      <th>2020-08-04 00:00:00+00:00</th>\n      <td>1472</td>\n      <td>True</td>\n      <td>1.17609</td>\n      <td>1.17624</td>\n      <td>1.17529</td>\n      <td>1.17545</td>\n    </tr>\n    <tr>\n      <th>2020-08-04 01:00:00+00:00</th>\n      <td>1610</td>\n      <td>True</td>\n      <td>1.17546</td>\n      <td>1.17602</td>\n      <td>1.17540</td>\n      <td>1.17592</td>\n    </tr>\n    <tr>\n      <th>2020-08-04 02:00:00+00:00</th>\n      <td>1475</td>\n      <td>True</td>\n      <td>1.17590</td>\n      <td>1.17741</td>\n      <td>1.17577</td>\n      <td>1.17730</td>\n    </tr>\n    <tr>\n      <th>2020-08-04 03:00:00+00:00</th>\n      <td>1386</td>\n      <td>True</td>\n      <td>1.17729</td>\n      <td>1.17748</td>\n      <td>1.17642</td>\n      <td>1.17686</td>\n    </tr>\n    <tr>\n      <th>2020-08-04 04:00:00+00:00</th>\n      <td>1169</td>\n      <td>True</td>\n      <td>1.17687</td>\n      <td>1.17754</td>\n      <td>1.17678</td>\n      <td>1.17747</td>\n    </tr>\n    <tr>\n      <th>2020-08-04 05:00:00+00:00</th>\n      <td>1617</td>\n      <td>True</td>\n      <td>1.17746</td>\n      <td>1.17781</td>\n      <td>1.17648</td>\n      <td>1.17675</td>\n    </tr>\n    <tr>\n      <th>2020-08-04 06:00:00+00:00</th>\n      <td>5409</td>\n      <td>True</td>\n      <td>1.17677</td>\n      <td>1.17809</td>\n      <td>1.17649</td>\n      <td>1.17777</td>\n    </tr>\n    <tr>\n      <th>2020-08-04 07:00:00+00:00</th>\n      <td>11029</td>\n      <td>True</td>\n      <td>1.17780</td>\n      <td>1.18034</td>\n      <td>1.17725</td>\n      <td>1.17874</td>\n    </tr>\n    <tr>\n      <th>2020-08-04 08:00:00+00:00</th>\n      <td>9091</td>\n      <td>True</td>\n      <td>1.17872</td>\n      <td>1.17959</td>\n      <td>1.17736</td>\n      <td>1.17936</td>\n    </tr>\n    <tr>\n      <th>2020-08-04 09:00:00+00:00</th>\n      <td>7353</td>\n      <td>True</td>\n      <td>1.17933</td>\n      <td>1.18071</td>\n      <td>1.17928</td>\n      <td>1.17955</td>\n    </tr>\n    <tr>\n      <th>2020-08-04 10:00:00+00:00</th>\n      <td>7140</td>\n      <td>True</td>\n      <td>1.17955</td>\n      <td>1.17961</td>\n      <td>1.17687</td>\n      <td>1.17708</td>\n    </tr>\n    <tr>\n      <th>2020-08-04 11:00:00+00:00</th>\n      <td>7599</td>\n      <td>True</td>\n      <td>1.17709</td>\n      <td>1.17741</td>\n      <td>1.17553</td>\n      <td>1.17620</td>\n    </tr>\n    <tr>\n      <th>2020-08-04 12:00:00+00:00</th>\n      <td>10370</td>\n      <td>True</td>\n      <td>1.17618</td>\n      <td>1.17719</td>\n      <td>1.17229</td>\n      <td>1.17290</td>\n    </tr>\n    <tr>\n      <th>2020-08-04 13:00:00+00:00</th>\n      <td>10603</td>\n      <td>True</td>\n      <td>1.17291</td>\n      <td>1.17389</td>\n      <td>1.17221</td>\n      <td>1.17254</td>\n    </tr>\n    <tr>\n      <th>2020-08-04 14:00:00+00:00</th>\n      <td>11371</td>\n      <td>True</td>\n      <td>1.17256</td>\n      <td>1.17652</td>\n      <td>1.17249</td>\n      <td>1.17573</td>\n    </tr>\n    <tr>\n      <th>2020-08-04 15:00:00+00:00</th>\n      <td>7072</td>\n      <td>True</td>\n      <td>1.17574</td>\n      <td>1.17744</td>\n      <td>1.17514</td>\n      <td>1.17659</td>\n    </tr>\n    <tr>\n      <th>2020-08-04 16:00:00+00:00</th>\n      <td>5020</td>\n      <td>True</td>\n      <td>1.17658</td>\n      <td>1.17785</td>\n      <td>1.17653</td>\n      <td>1.17785</td>\n    </tr>\n    <tr>\n      <th>2020-08-04 17:00:00+00:00</th>\n      <td>3868</td>\n      <td>True</td>\n      <td>1.17784</td>\n      <td>1.17860</td>\n      <td>1.17767</td>\n      <td>1.17835</td>\n    </tr>\n    <tr>\n      <th>2020-08-04 18:00:00+00:00</th>\n      <td>3394</td>\n      <td>True</td>\n      <td>1.17834</td>\n      <td>1.17924</td>\n      <td>1.17753</td>\n      <td>1.17830</td>\n    </tr>\n    <tr>\n      <th>2020-08-04 19:00:00+00:00</th>\n      <td>3615</td>\n      <td>True</td>\n      <td>1.17828</td>\n      <td>1.18038</td>\n      <td>1.17827</td>\n      <td>1.18033</td>\n    </tr>\n    <tr>\n      <th>2020-08-04 20:00:00+00:00</th>\n      <td>1088</td>\n      <td>True</td>\n      <td>1.18037</td>\n      <td>1.18043</td>\n      <td>1.17953</td>\n      <td>1.18040</td>\n    </tr>\n    <tr>\n      <th>2020-08-04 21:00:00+00:00</th>\n      <td>53</td>\n      <td>True</td>\n      <td>1.18063</td>\n      <td>1.18063</td>\n      <td>1.17984</td>\n      <td>1.17989</td>\n    </tr>\n    <tr>\n      <th>2020-08-04 22:00:00+00:00</th>\n      <td>675</td>\n      <td>True</td>\n      <td>1.17984</td>\n      <td>1.18013</td>\n      <td>1.17937</td>\n      <td>1.17990</td>\n    </tr>\n    <tr>\n      <th>2020-08-04 23:00:00+00:00</th>\n      <td>897</td>\n      <td>True</td>\n      <td>1.17992</td>\n      <td>1.18161</td>\n      <td>1.17954</td>\n      <td>1.18148</td>\n    </tr>\n  </tbody>\n</table>\n</div>"
     },
     "execution_count": 9,
     "metadata": {},
     "output_type": "execute_result"
    }
   ],
   "source": [
    "api.get_history(\"EUR_USD\", \"2020-08-03\", \"2020-08-05\", \"H1\", \"A\")"
   ]
  },
  {
   "cell_type": "code",
   "execution_count": 14,
   "metadata": {
    "scrolled": true,
    "ExecuteTime": {
     "end_time": "2023-06-21T23:43:49.874530300Z",
     "start_time": "2023-06-21T23:43:49.699532700Z"
    }
   },
   "outputs": [
    {
     "data": {
      "text/plain": "                           volume  complete        o        h        l  \\\ntime                                                                     \n2020-08-02 21:00:00+00:00   43624      True  1.17828  1.17976  1.17418   \n2020-08-03 09:00:00+00:00   69263      True  1.17799  1.17804  1.16966   \n2020-08-03 21:00:00+00:00   35408      True  1.17632  1.18034  1.17529   \n2020-08-04 09:00:00+00:00   78493      True  1.17933  1.18071  1.17221   \n2020-08-04 21:00:00+00:00   33438      True  1.18063  1.18421  1.17937   \n\n                                 c  \ntime                                \n2020-08-02 21:00:00+00:00  1.17798  \n2020-08-03 09:00:00+00:00  1.17632  \n2020-08-03 21:00:00+00:00  1.17936  \n2020-08-04 09:00:00+00:00  1.18040  \n2020-08-04 21:00:00+00:00  1.18408  ",
      "text/html": "<div>\n<style scoped>\n    .dataframe tbody tr th:only-of-type {\n        vertical-align: middle;\n    }\n\n    .dataframe tbody tr th {\n        vertical-align: top;\n    }\n\n    .dataframe thead th {\n        text-align: right;\n    }\n</style>\n<table border=\"1\" class=\"dataframe\">\n  <thead>\n    <tr style=\"text-align: right;\">\n      <th></th>\n      <th>volume</th>\n      <th>complete</th>\n      <th>o</th>\n      <th>h</th>\n      <th>l</th>\n      <th>c</th>\n    </tr>\n    <tr>\n      <th>time</th>\n      <th></th>\n      <th></th>\n      <th></th>\n      <th></th>\n      <th></th>\n      <th></th>\n    </tr>\n  </thead>\n  <tbody>\n    <tr>\n      <th>2020-08-02 21:00:00+00:00</th>\n      <td>43624</td>\n      <td>True</td>\n      <td>1.17828</td>\n      <td>1.17976</td>\n      <td>1.17418</td>\n      <td>1.17798</td>\n    </tr>\n    <tr>\n      <th>2020-08-03 09:00:00+00:00</th>\n      <td>69263</td>\n      <td>True</td>\n      <td>1.17799</td>\n      <td>1.17804</td>\n      <td>1.16966</td>\n      <td>1.17632</td>\n    </tr>\n    <tr>\n      <th>2020-08-03 21:00:00+00:00</th>\n      <td>35408</td>\n      <td>True</td>\n      <td>1.17632</td>\n      <td>1.18034</td>\n      <td>1.17529</td>\n      <td>1.17936</td>\n    </tr>\n    <tr>\n      <th>2020-08-04 09:00:00+00:00</th>\n      <td>78493</td>\n      <td>True</td>\n      <td>1.17933</td>\n      <td>1.18071</td>\n      <td>1.17221</td>\n      <td>1.18040</td>\n    </tr>\n    <tr>\n      <th>2020-08-04 21:00:00+00:00</th>\n      <td>33438</td>\n      <td>True</td>\n      <td>1.18063</td>\n      <td>1.18421</td>\n      <td>1.17937</td>\n      <td>1.18408</td>\n    </tr>\n  </tbody>\n</table>\n</div>"
     },
     "execution_count": 14,
     "metadata": {},
     "output_type": "execute_result"
    }
   ],
   "source": [
    "api.get_history(\"EUR_USD\", \"2020-08-03\", \"2020-08-05\", \"H12\", \"A\")"
   ]
  },
  {
   "cell_type": "code",
   "execution_count": 12,
   "metadata": {
    "scrolled": false,
    "ExecuteTime": {
     "end_time": "2023-06-21T23:43:30.560531100Z",
     "start_time": "2023-06-21T23:43:29.873030500Z"
    }
   },
   "outputs": [
    {
     "name": "stderr",
     "output_type": "stream",
     "text": [
      "C:\\ProgramData\\anaconda3\\envs\\udemy-algo-trading\\lib\\site-packages\\tpqoa\\tpqoa.py:161: FutureWarning: The frame.append method is deprecated and will be removed from pandas in a future version. Use pandas.concat instead.\n",
      "  data = data.append(batch)\n",
      "C:\\ProgramData\\anaconda3\\envs\\udemy-algo-trading\\lib\\site-packages\\tpqoa\\tpqoa.py:161: FutureWarning: The frame.append method is deprecated and will be removed from pandas in a future version. Use pandas.concat instead.\n",
      "  data = data.append(batch)\n"
     ]
    },
    {
     "data": {
      "text/plain": "                           volume  complete        o        h        l  \\\ntime                                                                     \n2020-08-03 00:00:00+00:00      44      True  1.17821  1.17835  1.17819   \n2020-08-03 00:01:00+00:00      59      True  1.17835  1.17871  1.17833   \n2020-08-03 00:02:00+00:00      62      True  1.17873  1.17896  1.17873   \n2020-08-03 00:03:00+00:00      36      True  1.17885  1.17900  1.17877   \n2020-08-03 00:04:00+00:00      64      True  1.17877  1.17877  1.17824   \n...                           ...       ...      ...      ...      ...   \n2020-08-04 23:55:00+00:00     129      True  1.18098  1.18161  1.18096   \n2020-08-04 23:56:00+00:00      28      True  1.18149  1.18161  1.18146   \n2020-08-04 23:57:00+00:00      23      True  1.18156  1.18160  1.18152   \n2020-08-04 23:58:00+00:00      15      True  1.18154  1.18161  1.18148   \n2020-08-04 23:59:00+00:00      11      True  1.18153  1.18155  1.18147   \n\n                                 c  \ntime                                \n2020-08-03 00:00:00+00:00  1.17835  \n2020-08-03 00:01:00+00:00  1.17871  \n2020-08-03 00:02:00+00:00  1.17884  \n2020-08-03 00:03:00+00:00  1.17877  \n2020-08-03 00:04:00+00:00  1.17835  \n...                            ...  \n2020-08-04 23:55:00+00:00  1.18147  \n2020-08-04 23:56:00+00:00  1.18159  \n2020-08-04 23:57:00+00:00  1.18156  \n2020-08-04 23:58:00+00:00  1.18155  \n2020-08-04 23:59:00+00:00  1.18148  \n\n[2803 rows x 6 columns]",
      "text/html": "<div>\n<style scoped>\n    .dataframe tbody tr th:only-of-type {\n        vertical-align: middle;\n    }\n\n    .dataframe tbody tr th {\n        vertical-align: top;\n    }\n\n    .dataframe thead th {\n        text-align: right;\n    }\n</style>\n<table border=\"1\" class=\"dataframe\">\n  <thead>\n    <tr style=\"text-align: right;\">\n      <th></th>\n      <th>volume</th>\n      <th>complete</th>\n      <th>o</th>\n      <th>h</th>\n      <th>l</th>\n      <th>c</th>\n    </tr>\n    <tr>\n      <th>time</th>\n      <th></th>\n      <th></th>\n      <th></th>\n      <th></th>\n      <th></th>\n      <th></th>\n    </tr>\n  </thead>\n  <tbody>\n    <tr>\n      <th>2020-08-03 00:00:00+00:00</th>\n      <td>44</td>\n      <td>True</td>\n      <td>1.17821</td>\n      <td>1.17835</td>\n      <td>1.17819</td>\n      <td>1.17835</td>\n    </tr>\n    <tr>\n      <th>2020-08-03 00:01:00+00:00</th>\n      <td>59</td>\n      <td>True</td>\n      <td>1.17835</td>\n      <td>1.17871</td>\n      <td>1.17833</td>\n      <td>1.17871</td>\n    </tr>\n    <tr>\n      <th>2020-08-03 00:02:00+00:00</th>\n      <td>62</td>\n      <td>True</td>\n      <td>1.17873</td>\n      <td>1.17896</td>\n      <td>1.17873</td>\n      <td>1.17884</td>\n    </tr>\n    <tr>\n      <th>2020-08-03 00:03:00+00:00</th>\n      <td>36</td>\n      <td>True</td>\n      <td>1.17885</td>\n      <td>1.17900</td>\n      <td>1.17877</td>\n      <td>1.17877</td>\n    </tr>\n    <tr>\n      <th>2020-08-03 00:04:00+00:00</th>\n      <td>64</td>\n      <td>True</td>\n      <td>1.17877</td>\n      <td>1.17877</td>\n      <td>1.17824</td>\n      <td>1.17835</td>\n    </tr>\n    <tr>\n      <th>...</th>\n      <td>...</td>\n      <td>...</td>\n      <td>...</td>\n      <td>...</td>\n      <td>...</td>\n      <td>...</td>\n    </tr>\n    <tr>\n      <th>2020-08-04 23:55:00+00:00</th>\n      <td>129</td>\n      <td>True</td>\n      <td>1.18098</td>\n      <td>1.18161</td>\n      <td>1.18096</td>\n      <td>1.18147</td>\n    </tr>\n    <tr>\n      <th>2020-08-04 23:56:00+00:00</th>\n      <td>28</td>\n      <td>True</td>\n      <td>1.18149</td>\n      <td>1.18161</td>\n      <td>1.18146</td>\n      <td>1.18159</td>\n    </tr>\n    <tr>\n      <th>2020-08-04 23:57:00+00:00</th>\n      <td>23</td>\n      <td>True</td>\n      <td>1.18156</td>\n      <td>1.18160</td>\n      <td>1.18152</td>\n      <td>1.18156</td>\n    </tr>\n    <tr>\n      <th>2020-08-04 23:58:00+00:00</th>\n      <td>15</td>\n      <td>True</td>\n      <td>1.18154</td>\n      <td>1.18161</td>\n      <td>1.18148</td>\n      <td>1.18155</td>\n    </tr>\n    <tr>\n      <th>2020-08-04 23:59:00+00:00</th>\n      <td>11</td>\n      <td>True</td>\n      <td>1.18153</td>\n      <td>1.18155</td>\n      <td>1.18147</td>\n      <td>1.18148</td>\n    </tr>\n  </tbody>\n</table>\n<p>2803 rows × 6 columns</p>\n</div>"
     },
     "execution_count": 12,
     "metadata": {},
     "output_type": "execute_result"
    }
   ],
   "source": [
    "api.get_history(\"EUR_USD\", \"2020-08-03\", \"2020-08-05\", \"M1\", \"A\")"
   ]
  },
  {
   "cell_type": "code",
   "execution_count": 13,
   "metadata": {
    "ExecuteTime": {
     "end_time": "2023-06-21T23:43:46.772531600Z",
     "start_time": "2023-06-21T23:43:43.474028500Z"
    }
   },
   "outputs": [
    {
     "name": "stderr",
     "output_type": "stream",
     "text": [
      "C:\\ProgramData\\anaconda3\\envs\\udemy-algo-trading\\lib\\site-packages\\tpqoa\\tpqoa.py:161: FutureWarning: The frame.append method is deprecated and will be removed from pandas in a future version. Use pandas.concat instead.\n",
      "  data = data.append(batch)\n",
      "C:\\ProgramData\\anaconda3\\envs\\udemy-algo-trading\\lib\\site-packages\\tpqoa\\tpqoa.py:161: FutureWarning: The frame.append method is deprecated and will be removed from pandas in a future version. Use pandas.concat instead.\n",
      "  data = data.append(batch)\n",
      "C:\\ProgramData\\anaconda3\\envs\\udemy-algo-trading\\lib\\site-packages\\tpqoa\\tpqoa.py:161: FutureWarning: The frame.append method is deprecated and will be removed from pandas in a future version. Use pandas.concat instead.\n",
      "  data = data.append(batch)\n",
      "C:\\ProgramData\\anaconda3\\envs\\udemy-algo-trading\\lib\\site-packages\\tpqoa\\tpqoa.py:161: FutureWarning: The frame.append method is deprecated and will be removed from pandas in a future version. Use pandas.concat instead.\n",
      "  data = data.append(batch)\n",
      "C:\\ProgramData\\anaconda3\\envs\\udemy-algo-trading\\lib\\site-packages\\tpqoa\\tpqoa.py:161: FutureWarning: The frame.append method is deprecated and will be removed from pandas in a future version. Use pandas.concat instead.\n",
      "  data = data.append(batch)\n",
      "C:\\ProgramData\\anaconda3\\envs\\udemy-algo-trading\\lib\\site-packages\\tpqoa\\tpqoa.py:161: FutureWarning: The frame.append method is deprecated and will be removed from pandas in a future version. Use pandas.concat instead.\n",
      "  data = data.append(batch)\n"
     ]
    },
    {
     "data": {
      "text/plain": "                           volume  complete        o        h        l  \\\ntime                                                                     \n2020-08-03 00:00:00+00:00      16      True  1.17821  1.17830  1.17819   \n2020-08-03 00:00:10+00:00       6      True  1.17827  1.17832  1.17824   \n2020-08-03 00:00:15+00:00       7      True  1.17830  1.17830  1.17823   \n2020-08-03 00:00:30+00:00       4      True  1.17829  1.17830  1.17828   \n2020-08-03 00:00:35+00:00       1      True  1.17827  1.17827  1.17827   \n...                           ...       ...      ...      ...      ...   \n2020-08-03 23:57:20+00:00       1      True  1.17608  1.17608  1.17608   \n2020-08-03 23:57:50+00:00       3      True  1.17609  1.17613  1.17609   \n2020-08-03 23:58:35+00:00       1      True  1.17613  1.17613  1.17613   \n2020-08-03 23:59:45+00:00       2      True  1.17613  1.17613  1.17611   \n2020-08-03 23:59:50+00:00       2      True  1.17609  1.17611  1.17609   \n\n                                 c  \ntime                                \n2020-08-03 00:00:00+00:00  1.17828  \n2020-08-03 00:00:10+00:00  1.17832  \n2020-08-03 00:00:15+00:00  1.17826  \n2020-08-03 00:00:30+00:00  1.17829  \n2020-08-03 00:00:35+00:00  1.17827  \n...                            ...  \n2020-08-03 23:57:20+00:00  1.17608  \n2020-08-03 23:57:50+00:00  1.17613  \n2020-08-03 23:58:35+00:00  1.17613  \n2020-08-03 23:59:45+00:00  1.17611  \n2020-08-03 23:59:50+00:00  1.17611  \n\n[13561 rows x 6 columns]",
      "text/html": "<div>\n<style scoped>\n    .dataframe tbody tr th:only-of-type {\n        vertical-align: middle;\n    }\n\n    .dataframe tbody tr th {\n        vertical-align: top;\n    }\n\n    .dataframe thead th {\n        text-align: right;\n    }\n</style>\n<table border=\"1\" class=\"dataframe\">\n  <thead>\n    <tr style=\"text-align: right;\">\n      <th></th>\n      <th>volume</th>\n      <th>complete</th>\n      <th>o</th>\n      <th>h</th>\n      <th>l</th>\n      <th>c</th>\n    </tr>\n    <tr>\n      <th>time</th>\n      <th></th>\n      <th></th>\n      <th></th>\n      <th></th>\n      <th></th>\n      <th></th>\n    </tr>\n  </thead>\n  <tbody>\n    <tr>\n      <th>2020-08-03 00:00:00+00:00</th>\n      <td>16</td>\n      <td>True</td>\n      <td>1.17821</td>\n      <td>1.17830</td>\n      <td>1.17819</td>\n      <td>1.17828</td>\n    </tr>\n    <tr>\n      <th>2020-08-03 00:00:10+00:00</th>\n      <td>6</td>\n      <td>True</td>\n      <td>1.17827</td>\n      <td>1.17832</td>\n      <td>1.17824</td>\n      <td>1.17832</td>\n    </tr>\n    <tr>\n      <th>2020-08-03 00:00:15+00:00</th>\n      <td>7</td>\n      <td>True</td>\n      <td>1.17830</td>\n      <td>1.17830</td>\n      <td>1.17823</td>\n      <td>1.17826</td>\n    </tr>\n    <tr>\n      <th>2020-08-03 00:00:30+00:00</th>\n      <td>4</td>\n      <td>True</td>\n      <td>1.17829</td>\n      <td>1.17830</td>\n      <td>1.17828</td>\n      <td>1.17829</td>\n    </tr>\n    <tr>\n      <th>2020-08-03 00:00:35+00:00</th>\n      <td>1</td>\n      <td>True</td>\n      <td>1.17827</td>\n      <td>1.17827</td>\n      <td>1.17827</td>\n      <td>1.17827</td>\n    </tr>\n    <tr>\n      <th>...</th>\n      <td>...</td>\n      <td>...</td>\n      <td>...</td>\n      <td>...</td>\n      <td>...</td>\n      <td>...</td>\n    </tr>\n    <tr>\n      <th>2020-08-03 23:57:20+00:00</th>\n      <td>1</td>\n      <td>True</td>\n      <td>1.17608</td>\n      <td>1.17608</td>\n      <td>1.17608</td>\n      <td>1.17608</td>\n    </tr>\n    <tr>\n      <th>2020-08-03 23:57:50+00:00</th>\n      <td>3</td>\n      <td>True</td>\n      <td>1.17609</td>\n      <td>1.17613</td>\n      <td>1.17609</td>\n      <td>1.17613</td>\n    </tr>\n    <tr>\n      <th>2020-08-03 23:58:35+00:00</th>\n      <td>1</td>\n      <td>True</td>\n      <td>1.17613</td>\n      <td>1.17613</td>\n      <td>1.17613</td>\n      <td>1.17613</td>\n    </tr>\n    <tr>\n      <th>2020-08-03 23:59:45+00:00</th>\n      <td>2</td>\n      <td>True</td>\n      <td>1.17613</td>\n      <td>1.17613</td>\n      <td>1.17611</td>\n      <td>1.17611</td>\n    </tr>\n    <tr>\n      <th>2020-08-03 23:59:50+00:00</th>\n      <td>2</td>\n      <td>True</td>\n      <td>1.17609</td>\n      <td>1.17611</td>\n      <td>1.17609</td>\n      <td>1.17611</td>\n    </tr>\n  </tbody>\n</table>\n<p>13561 rows × 6 columns</p>\n</div>"
     },
     "execution_count": 13,
     "metadata": {},
     "output_type": "execute_result"
    }
   ],
   "source": [
    "api.get_history(\"EUR_USD\", \"2020-08-03\", \"2020-08-04\", \"S5\", \"A\")"
   ]
  },
  {
   "cell_type": "code",
   "execution_count": 15,
   "metadata": {
    "ExecuteTime": {
     "end_time": "2023-06-21T23:44:10.337532200Z",
     "start_time": "2023-06-21T23:44:10.143532700Z"
    }
   },
   "outputs": [
    {
     "data": {
      "text/plain": "[('GBP/SGD', 'GBP_SGD'),\n ('USD/SEK', 'USD_SEK'),\n ('EUR/DKK', 'EUR_DKK'),\n ('Brent Crude Oil', 'BCO_USD'),\n ('CAD/CHF', 'CAD_CHF'),\n ('Silver/SGD', 'XAG_SGD'),\n ('USD/CZK', 'USD_CZK'),\n ('Gold/GBP', 'XAU_GBP'),\n ('USD/ZAR', 'USD_ZAR'),\n ('Gold/NZD', 'XAU_NZD'),\n ('USD/DKK', 'USD_DKK'),\n ('Gold/CHF', 'XAU_CHF'),\n ('GBP/USD', 'GBP_USD'),\n ('USD/MXN', 'USD_MXN'),\n ('UK 10Y Gilt', 'UK10YB_GBP'),\n ('USD/HUF', 'USD_HUF'),\n ('EUR/CAD', 'EUR_CAD'),\n ('Japan 225', 'JP225_USD'),\n ('Silver/CAD', 'XAG_CAD'),\n ('EUR/USD', 'EUR_USD'),\n ('Singapore 30', 'SG30_SGD'),\n ('Platinum', 'XPT_USD'),\n ('Gold/EUR', 'XAU_EUR'),\n ('CAD/JPY', 'CAD_JPY'),\n ('NZD/HKD', 'NZD_HKD'),\n ('Germany 30', 'DE30_EUR'),\n ('USD/HKD', 'USD_HKD'),\n ('AUD/JPY', 'AUD_JPY'),\n ('China A50', 'CN50_USD'),\n ('ZAR/JPY', 'ZAR_JPY'),\n ('Silver/JPY', 'XAG_JPY'),\n ('GBP/ZAR', 'GBP_ZAR'),\n ('SGD/JPY', 'SGD_JPY'),\n ('USD/JPY', 'USD_JPY'),\n ('EUR/TRY', 'EUR_TRY'),\n ('EUR/JPY', 'EUR_JPY'),\n ('Taiwan Index', 'TWIX_USD'),\n ('AUD/SGD', 'AUD_SGD'),\n ('Silver/NZD', 'XAG_NZD'),\n ('West Texas Oil', 'WTICO_USD'),\n ('Silver/AUD', 'XAG_AUD'),\n ('EUR/NZD', 'EUR_NZD'),\n ('GBP/HKD', 'GBP_HKD'),\n ('CHF/JPY', 'CHF_JPY'),\n ('EUR/HKD', 'EUR_HKD'),\n ('GBP/CAD', 'GBP_CAD'),\n ('Gold/HKD', 'XAU_HKD'),\n ('Gold/JPY', 'XAU_JPY'),\n ('USD/THB', 'USD_THB'),\n ('GBP/CHF', 'GBP_CHF'),\n ('AUD/CHF', 'AUD_CHF'),\n ('Spain 35', 'ESPIX_EUR'),\n ('NZD/CHF', 'NZD_CHF'),\n ('AUD/HKD', 'AUD_HKD'),\n ('Silver/HKD', 'XAG_HKD'),\n ('USD/CHF', 'USD_CHF'),\n ('Silver/CHF', 'XAG_CHF'),\n ('Switzerland 20', 'CH20_CHF'),\n ('CAD/HKD', 'CAD_HKD'),\n ('Palladium', 'XPD_USD'),\n ('Natural Gas', 'NATGAS_USD'),\n ('AUD/CAD', 'AUD_CAD'),\n ('GBP/PLN', 'GBP_PLN'),\n ('Bund', 'DE10YB_EUR'),\n ('EUR/PLN', 'EUR_PLN'),\n ('Sugar', 'SUGAR_USD'),\n ('GBP/NZD', 'GBP_NZD'),\n ('EUR/HUF', 'EUR_HUF'),\n ('UK 100', 'UK100_GBP'),\n ('Japan 225 (JPY)', 'JP225Y_JPY'),\n ('Gold', 'XAU_USD'),\n ('EUR/NOK', 'EUR_NOK'),\n ('US Wall St 30', 'US30_USD'),\n ('CHF/HKD', 'CHF_HKD'),\n ('France 40', 'FR40_EUR'),\n ('EUR/GBP', 'EUR_GBP'),\n ('AUD/NZD', 'AUD_NZD'),\n ('CAD/SGD', 'CAD_SGD'),\n ('Wheat', 'WHEAT_USD'),\n ('Gold/AUD', 'XAU_AUD'),\n ('EUR/CZK', 'EUR_CZK'),\n ('NZD/JPY', 'NZD_JPY'),\n ('US 5Y T-Note', 'USB05Y_USD'),\n ('US T-Bond', 'USB30Y_USD'),\n ('Silver', 'XAG_USD'),\n ('USD/TRY', 'USD_TRY'),\n ('GBP/JPY', 'GBP_JPY'),\n ('US SPX 500', 'SPX500_USD'),\n ('SGD/CHF', 'SGD_CHF'),\n ('Copper', 'XCU_USD'),\n ('US 2Y T-Note', 'USB02Y_USD'),\n ('USD/CNH', 'USD_CNH'),\n ('USD/NOK', 'USD_NOK'),\n ('NZD/SGD', 'NZD_SGD'),\n ('Hong Kong 33', 'HK33_HKD'),\n ('Silver/GBP', 'XAG_GBP'),\n ('Silver/EUR', 'XAG_EUR'),\n ('NZD/USD', 'NZD_USD'),\n ('US 10Y T-Note', 'USB10Y_USD'),\n ('US Russ 2000', 'US2000_USD'),\n ('USD/CAD', 'USD_CAD'),\n ('AUD/USD', 'AUD_USD'),\n ('CHF/ZAR', 'CHF_ZAR'),\n ('HKD/JPY', 'HKD_JPY'),\n ('EUR/SEK', 'EUR_SEK'),\n ('USD/SGD', 'USD_SGD'),\n ('TRY/JPY', 'TRY_JPY'),\n ('Europe 50', 'EU50_EUR'),\n ('NZD/CAD', 'NZD_CAD'),\n ('EUR/SGD', 'EUR_SGD'),\n ('EUR/AUD', 'EUR_AUD'),\n ('Gold/CAD', 'XAU_CAD'),\n ('Gold/Silver', 'XAU_XAG'),\n ('Australia 200', 'AU200_AUD'),\n ('Soybeans', 'SOYBN_USD'),\n ('Corn', 'CORN_USD'),\n ('Gold/SGD', 'XAU_SGD'),\n ('GBP/AUD', 'GBP_AUD'),\n ('USD/PLN', 'USD_PLN'),\n ('US Nas 100', 'NAS100_USD'),\n ('EUR/CHF', 'EUR_CHF'),\n ('EUR/ZAR', 'EUR_ZAR'),\n ('China H Shares', 'CHINAH_HKD'),\n ('Netherlands 25', 'NL25_EUR')]"
     },
     "execution_count": 15,
     "metadata": {},
     "output_type": "execute_result"
    }
   ],
   "source": [
    "api.get_instruments()"
   ]
  },
  {
   "cell_type": "code",
   "execution_count": 23,
   "metadata": {
    "ExecuteTime": {
     "end_time": "2023-06-21T23:47:51.243031300Z",
     "start_time": "2023-06-21T23:47:51.086031500Z"
    }
   },
   "outputs": [
    {
     "data": {
      "text/plain": "                           volume  complete       o       h       l       c\ntime                                                                       \n2020-08-02 21:00:00+00:00   24453      True  3279.5  3303.5  3263.0  3297.0\n2020-08-03 21:00:00+00:00   18521      True  3295.8  3308.5  3279.5  3308.0",
      "text/html": "<div>\n<style scoped>\n    .dataframe tbody tr th:only-of-type {\n        vertical-align: middle;\n    }\n\n    .dataframe tbody tr th {\n        vertical-align: top;\n    }\n\n    .dataframe thead th {\n        text-align: right;\n    }\n</style>\n<table border=\"1\" class=\"dataframe\">\n  <thead>\n    <tr style=\"text-align: right;\">\n      <th></th>\n      <th>volume</th>\n      <th>complete</th>\n      <th>o</th>\n      <th>h</th>\n      <th>l</th>\n      <th>c</th>\n    </tr>\n    <tr>\n      <th>time</th>\n      <th></th>\n      <th></th>\n      <th></th>\n      <th></th>\n      <th></th>\n      <th></th>\n    </tr>\n  </thead>\n  <tbody>\n    <tr>\n      <th>2020-08-02 21:00:00+00:00</th>\n      <td>24453</td>\n      <td>True</td>\n      <td>3279.5</td>\n      <td>3303.5</td>\n      <td>3263.0</td>\n      <td>3297.0</td>\n    </tr>\n    <tr>\n      <th>2020-08-03 21:00:00+00:00</th>\n      <td>18521</td>\n      <td>True</td>\n      <td>3295.8</td>\n      <td>3308.5</td>\n      <td>3279.5</td>\n      <td>3308.0</td>\n    </tr>\n  </tbody>\n</table>\n</div>"
     },
     "execution_count": 23,
     "metadata": {},
     "output_type": "execute_result"
    }
   ],
   "source": [
    "api.get_history(\"SPX500_USD\", \"2020-08-03\", \"2020-08-04\", \"D\", \"A\")"
   ]
  },
  {
   "cell_type": "code",
   "execution_count": 27,
   "metadata": {
    "ExecuteTime": {
     "end_time": "2023-06-21T23:48:28.463032300Z",
     "start_time": "2023-06-21T23:48:28.289031600Z"
    }
   },
   "outputs": [
    {
     "data": {
      "text/plain": "                           volume  complete        o        h        l  \\\ntime                                                                     \n2023-01-24 22:00:00+00:00  248647      True  160.616  160.950  159.528   \n2023-01-25 22:00:00+00:00  253475      True  160.801  161.756  160.031   \n2023-01-26 22:00:00+00:00  227636      True  161.625  161.710  160.428   \n2023-01-29 22:00:00+00:00  248184      True  160.792  161.439  160.227   \n\n                                 c  \ntime                                \n2023-01-24 22:00:00+00:00  160.728  \n2023-01-25 22:00:00+00:00  161.679  \n2023-01-26 22:00:00+00:00  160.948  \n2023-01-29 22:00:00+00:00  161.126  ",
      "text/html": "<div>\n<style scoped>\n    .dataframe tbody tr th:only-of-type {\n        vertical-align: middle;\n    }\n\n    .dataframe tbody tr th {\n        vertical-align: top;\n    }\n\n    .dataframe thead th {\n        text-align: right;\n    }\n</style>\n<table border=\"1\" class=\"dataframe\">\n  <thead>\n    <tr style=\"text-align: right;\">\n      <th></th>\n      <th>volume</th>\n      <th>complete</th>\n      <th>o</th>\n      <th>h</th>\n      <th>l</th>\n      <th>c</th>\n    </tr>\n    <tr>\n      <th>time</th>\n      <th></th>\n      <th></th>\n      <th></th>\n      <th></th>\n      <th></th>\n      <th></th>\n    </tr>\n  </thead>\n  <tbody>\n    <tr>\n      <th>2023-01-24 22:00:00+00:00</th>\n      <td>248647</td>\n      <td>True</td>\n      <td>160.616</td>\n      <td>160.950</td>\n      <td>159.528</td>\n      <td>160.728</td>\n    </tr>\n    <tr>\n      <th>2023-01-25 22:00:00+00:00</th>\n      <td>253475</td>\n      <td>True</td>\n      <td>160.801</td>\n      <td>161.756</td>\n      <td>160.031</td>\n      <td>161.679</td>\n    </tr>\n    <tr>\n      <th>2023-01-26 22:00:00+00:00</th>\n      <td>227636</td>\n      <td>True</td>\n      <td>161.625</td>\n      <td>161.710</td>\n      <td>160.428</td>\n      <td>160.948</td>\n    </tr>\n    <tr>\n      <th>2023-01-29 22:00:00+00:00</th>\n      <td>248184</td>\n      <td>True</td>\n      <td>160.792</td>\n      <td>161.439</td>\n      <td>160.227</td>\n      <td>161.126</td>\n    </tr>\n  </tbody>\n</table>\n</div>"
     },
     "execution_count": 27,
     "metadata": {},
     "output_type": "execute_result"
    }
   ],
   "source": [
    "api.get_history(\"GBP_JPY\", \"2023-01-25\",\"2023-01-30\",\"D\",\"A\")"
   ]
  },
  {
   "cell_type": "markdown",
   "metadata": {},
   "source": [
    "## Streaming high-frequency real-time Data"
   ]
  },
  {
   "cell_type": "code",
   "execution_count": null,
   "metadata": {},
   "outputs": [],
   "source": [
    "import pandas as pd\n",
    "import tpqoa"
   ]
  },
  {
   "cell_type": "code",
   "execution_count": null,
   "metadata": {},
   "outputs": [],
   "source": [
    "api = tpqoa.tpqoa(\"oanda.cfg\")"
   ]
  },
  {
   "cell_type": "code",
   "execution_count": null,
   "metadata": {
    "scrolled": true
   },
   "outputs": [],
   "source": [
    "api.stream_data('EUR_USD', stop = 10) "
   ]
  },
  {
   "cell_type": "code",
   "execution_count": null,
   "metadata": {},
   "outputs": [],
   "source": [
    "#api.stop_stream()"
   ]
  },
  {
   "cell_type": "code",
   "execution_count": null,
   "metadata": {},
   "outputs": [],
   "source": []
  },
  {
   "cell_type": "markdown",
   "metadata": {},
   "source": [
    "## Creating Orders and Executing Trades"
   ]
  },
  {
   "cell_type": "code",
   "execution_count": null,
   "metadata": {},
   "outputs": [],
   "source": [
    "import pandas as pd\n",
    "import tpqoa"
   ]
  },
  {
   "cell_type": "code",
   "execution_count": null,
   "metadata": {},
   "outputs": [],
   "source": [
    "api = tpqoa.tpqoa(\"oanda.cfg\")"
   ]
  },
  {
   "cell_type": "code",
   "execution_count": null,
   "metadata": {},
   "outputs": [],
   "source": [
    "api.create_order(instrument = \"EUR_USD\", units = 100000, sl_distance= 0.1)"
   ]
  },
  {
   "cell_type": "code",
   "execution_count": null,
   "metadata": {},
   "outputs": [],
   "source": [
    "api.create_order(instrument = \"EUR_USD\", units = -100000, sl_distance= 0.1)"
   ]
  },
  {
   "cell_type": "code",
   "execution_count": null,
   "metadata": {
    "scrolled": true
   },
   "outputs": [],
   "source": [
    "api.get_account_summary()"
   ]
  },
  {
   "cell_type": "code",
   "execution_count": null,
   "metadata": {},
   "outputs": [],
   "source": [
    "api.get_transactions(tid = 24)"
   ]
  },
  {
   "cell_type": "code",
   "execution_count": null,
   "metadata": {},
   "outputs": [],
   "source": [
    "api.print_transactions(tid = 26-1)"
   ]
  },
  {
   "cell_type": "code",
   "execution_count": null,
   "metadata": {},
   "outputs": [],
   "source": []
  }
 ],
 "metadata": {
  "kernelspec": {
   "display_name": "Python 3 (ipykernel)",
   "language": "python",
   "name": "python3"
  },
  "language_info": {
   "codemirror_mode": {
    "name": "ipython",
    "version": 3
   },
   "file_extension": ".py",
   "mimetype": "text/x-python",
   "name": "python",
   "nbconvert_exporter": "python",
   "pygments_lexer": "ipython3",
   "version": "3.10.11"
  }
 },
 "nbformat": 4,
 "nbformat_minor": 2
}
