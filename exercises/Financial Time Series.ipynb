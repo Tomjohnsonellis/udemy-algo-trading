{
 "cells": [
  {
   "cell_type": "markdown",
   "source": [
    "# Part 2 - Exercise 2\n",
    "### Financial Data Analysis\n",
    "\n",
    "In this exercise we will be exploring some past financial data and having a look at the trends."
   ],
   "metadata": {
    "collapsed": false
   }
  },
  {
   "cell_type": "code",
   "execution_count": 6,
   "outputs": [
    {
     "data": {
      "text/plain": "   Unnamed: 0       Open Open.1              Open.2     Open.3  \\\n0         NaN        AXP     FB                INTC        MCD   \n1        Date        NaN    NaN                 NaN        NaN   \n2  2009-12-31  40.900002    NaN                20.6  62.970001   \n3  2010-01-04  40.810001    NaN           20.790001  62.630001   \n4  2010-01-05  40.830002    NaN  20.940001000000002      62.66   \n\n               Open.4              Open.5       High High.1  \\\n0                  PG                 WMT        AXP     FB   \n1                 NaN                 NaN        NaN    NaN   \n2               61.52               54.25  41.080002    NaN   \n3  61.110001000000004  53.740002000000004  41.099998    NaN   \n4           61.130001               54.09      41.23    NaN   \n\n               High.2  ... Adj Close.2 Adj Close.3         Adj Close.4  \\\n0                INTC  ...        INTC         MCD                  PG   \n1                 NaN  ...         NaN         NaN                 NaN   \n2  20.719998999999998  ...   15.252899   47.055138           45.146072   \n3  21.030001000000002  ...   15.611791   47.311375  45.510940999999995   \n4               20.99  ...   15.604316   46.949627           45.525822   \n\n  Adj Close.5    Volume Volume.1  Volume.2 Volume.3 Volume.4  Volume.5  \n0         WMT       AXP       FB      INTC      MCD       PG       WMT  \n1         NaN       NaN      NaN       NaN      NaN      NaN       NaN  \n2   42.548668   4030500      NaN  26429200  4495300  5942200   9764800  \n3   43.169579   6894300      NaN  47800900  5839300  9190800  20753100  \n4   42.739723  10641200      NaN  52357700  7099000  8649400  15648400  \n\n[5 rows x 37 columns]",
      "text/html": "<div>\n<style scoped>\n    .dataframe tbody tr th:only-of-type {\n        vertical-align: middle;\n    }\n\n    .dataframe tbody tr th {\n        vertical-align: top;\n    }\n\n    .dataframe thead th {\n        text-align: right;\n    }\n</style>\n<table border=\"1\" class=\"dataframe\">\n  <thead>\n    <tr style=\"text-align: right;\">\n      <th></th>\n      <th>Unnamed: 0</th>\n      <th>Open</th>\n      <th>Open.1</th>\n      <th>Open.2</th>\n      <th>Open.3</th>\n      <th>Open.4</th>\n      <th>Open.5</th>\n      <th>High</th>\n      <th>High.1</th>\n      <th>High.2</th>\n      <th>...</th>\n      <th>Adj Close.2</th>\n      <th>Adj Close.3</th>\n      <th>Adj Close.4</th>\n      <th>Adj Close.5</th>\n      <th>Volume</th>\n      <th>Volume.1</th>\n      <th>Volume.2</th>\n      <th>Volume.3</th>\n      <th>Volume.4</th>\n      <th>Volume.5</th>\n    </tr>\n  </thead>\n  <tbody>\n    <tr>\n      <th>0</th>\n      <td>NaN</td>\n      <td>AXP</td>\n      <td>FB</td>\n      <td>INTC</td>\n      <td>MCD</td>\n      <td>PG</td>\n      <td>WMT</td>\n      <td>AXP</td>\n      <td>FB</td>\n      <td>INTC</td>\n      <td>...</td>\n      <td>INTC</td>\n      <td>MCD</td>\n      <td>PG</td>\n      <td>WMT</td>\n      <td>AXP</td>\n      <td>FB</td>\n      <td>INTC</td>\n      <td>MCD</td>\n      <td>PG</td>\n      <td>WMT</td>\n    </tr>\n    <tr>\n      <th>1</th>\n      <td>Date</td>\n      <td>NaN</td>\n      <td>NaN</td>\n      <td>NaN</td>\n      <td>NaN</td>\n      <td>NaN</td>\n      <td>NaN</td>\n      <td>NaN</td>\n      <td>NaN</td>\n      <td>NaN</td>\n      <td>...</td>\n      <td>NaN</td>\n      <td>NaN</td>\n      <td>NaN</td>\n      <td>NaN</td>\n      <td>NaN</td>\n      <td>NaN</td>\n      <td>NaN</td>\n      <td>NaN</td>\n      <td>NaN</td>\n      <td>NaN</td>\n    </tr>\n    <tr>\n      <th>2</th>\n      <td>2009-12-31</td>\n      <td>40.900002</td>\n      <td>NaN</td>\n      <td>20.6</td>\n      <td>62.970001</td>\n      <td>61.52</td>\n      <td>54.25</td>\n      <td>41.080002</td>\n      <td>NaN</td>\n      <td>20.719998999999998</td>\n      <td>...</td>\n      <td>15.252899</td>\n      <td>47.055138</td>\n      <td>45.146072</td>\n      <td>42.548668</td>\n      <td>4030500</td>\n      <td>NaN</td>\n      <td>26429200</td>\n      <td>4495300</td>\n      <td>5942200</td>\n      <td>9764800</td>\n    </tr>\n    <tr>\n      <th>3</th>\n      <td>2010-01-04</td>\n      <td>40.810001</td>\n      <td>NaN</td>\n      <td>20.790001</td>\n      <td>62.630001</td>\n      <td>61.110001000000004</td>\n      <td>53.740002000000004</td>\n      <td>41.099998</td>\n      <td>NaN</td>\n      <td>21.030001000000002</td>\n      <td>...</td>\n      <td>15.611791</td>\n      <td>47.311375</td>\n      <td>45.510940999999995</td>\n      <td>43.169579</td>\n      <td>6894300</td>\n      <td>NaN</td>\n      <td>47800900</td>\n      <td>5839300</td>\n      <td>9190800</td>\n      <td>20753100</td>\n    </tr>\n    <tr>\n      <th>4</th>\n      <td>2010-01-05</td>\n      <td>40.830002</td>\n      <td>NaN</td>\n      <td>20.940001000000002</td>\n      <td>62.66</td>\n      <td>61.130001</td>\n      <td>54.09</td>\n      <td>41.23</td>\n      <td>NaN</td>\n      <td>20.99</td>\n      <td>...</td>\n      <td>15.604316</td>\n      <td>46.949627</td>\n      <td>45.525822</td>\n      <td>42.739723</td>\n      <td>10641200</td>\n      <td>NaN</td>\n      <td>52357700</td>\n      <td>7099000</td>\n      <td>8649400</td>\n      <td>15648400</td>\n    </tr>\n  </tbody>\n</table>\n<p>5 rows × 37 columns</p>\n</div>"
     },
     "execution_count": 6,
     "metadata": {},
     "output_type": "execute_result"
    }
   ],
   "source": [
    "import pandas as pd\n",
    "dataframe = pd.read_csv(\"../course content/Part2_Materials/Exercises/us_stocks.csv\")\n",
    "dataframe.head()"
   ],
   "metadata": {
    "collapsed": false
   }
  },
  {
   "cell_type": "code",
   "execution_count": 40,
   "outputs": [
    {
     "name": "stdout",
     "output_type": "stream",
     "text": [
      "   Unnamed: 0           Adj Close Adj Close.1 Adj Close.2 Adj Close.3  \\\n",
      "0         NaN                 AXP          FB        INTC         MCD   \n",
      "1        Date                 NaN         NaN         NaN         NaN   \n",
      "2  2009-12-31           35.271194         NaN   15.252899   47.055138   \n",
      "3  2010-01-04  35.619372999999996         NaN   15.611791   47.311375   \n",
      "4  2010-01-05  35.541039000000005         NaN   15.604316   46.949627   \n",
      "\n",
      "          Adj Close.4 Adj Close.5  \n",
      "0                  PG         WMT  \n",
      "1                 NaN         NaN  \n",
      "2           45.146072   42.548668  \n",
      "3  45.510940999999995   43.169579  \n",
      "4           45.525822   42.739723  \n",
      "Stock names: ['AXP', 'FB', 'INTC', 'MCD', 'PG', 'WMT']\n"
     ]
    }
   ],
   "source": [
    "# This csv is a bit messy, the stock names are in row 0\n",
    "#dataframe.columns\n",
    "\n",
    "# First we'll grab just the data we care about\n",
    "dataframe = dataframe[[\"Unnamed: 0\",\n",
    "           \"Adj Close\",\n",
    "           \"Adj Close.1\",\n",
    "           \"Adj Close.2\",\n",
    "           \"Adj Close.3\",\n",
    "           \"Adj Close.4\",\n",
    "           \"Adj Close.5\"]]\n",
    "print(dataframe.head())\n",
    "\n",
    "# And then extract the stock tickers\n",
    "stock_names = list(dataframe.loc[0][1:].values)\n",
    "print(\"Stock names: {}\".format(stock_names))"
   ],
   "metadata": {
    "collapsed": false
   }
  },
  {
   "cell_type": "code",
   "execution_count": 71,
   "outputs": [
    {
     "name": "stdout",
     "output_type": "stream",
     "text": [
      "Columns: ['Date', 'AXP', 'FB', 'INTC', 'MCD', 'PG', 'WMT']\n"
     ]
    },
    {
     "data": {
      "text/plain": "                  AXP  FB       INTC        MCD         PG        WMT\nDate                                                                 \n2009-12-31  35.271194 NaN  15.252899  47.055138  45.146072  42.548668\n2010-01-04  35.619373 NaN  15.611791  47.311375  45.510941  43.169579\n2010-01-05  35.541039 NaN  15.604316  46.949627  45.525822  42.739723\n2010-01-06  36.115540 NaN  15.551979  46.309067  45.309883  42.644184\n2010-01-07  36.701283 NaN  15.402434  46.648193  45.064171  42.668079",
      "text/html": "<div>\n<style scoped>\n    .dataframe tbody tr th:only-of-type {\n        vertical-align: middle;\n    }\n\n    .dataframe tbody tr th {\n        vertical-align: top;\n    }\n\n    .dataframe thead th {\n        text-align: right;\n    }\n</style>\n<table border=\"1\" class=\"dataframe\">\n  <thead>\n    <tr style=\"text-align: right;\">\n      <th></th>\n      <th>AXP</th>\n      <th>FB</th>\n      <th>INTC</th>\n      <th>MCD</th>\n      <th>PG</th>\n      <th>WMT</th>\n    </tr>\n    <tr>\n      <th>Date</th>\n      <th></th>\n      <th></th>\n      <th></th>\n      <th></th>\n      <th></th>\n      <th></th>\n    </tr>\n  </thead>\n  <tbody>\n    <tr>\n      <th>2009-12-31</th>\n      <td>35.271194</td>\n      <td>NaN</td>\n      <td>15.252899</td>\n      <td>47.055138</td>\n      <td>45.146072</td>\n      <td>42.548668</td>\n    </tr>\n    <tr>\n      <th>2010-01-04</th>\n      <td>35.619373</td>\n      <td>NaN</td>\n      <td>15.611791</td>\n      <td>47.311375</td>\n      <td>45.510941</td>\n      <td>43.169579</td>\n    </tr>\n    <tr>\n      <th>2010-01-05</th>\n      <td>35.541039</td>\n      <td>NaN</td>\n      <td>15.604316</td>\n      <td>46.949627</td>\n      <td>45.525822</td>\n      <td>42.739723</td>\n    </tr>\n    <tr>\n      <th>2010-01-06</th>\n      <td>36.115540</td>\n      <td>NaN</td>\n      <td>15.551979</td>\n      <td>46.309067</td>\n      <td>45.309883</td>\n      <td>42.644184</td>\n    </tr>\n    <tr>\n      <th>2010-01-07</th>\n      <td>36.701283</td>\n      <td>NaN</td>\n      <td>15.402434</td>\n      <td>46.648193</td>\n      <td>45.064171</td>\n      <td>42.668079</td>\n    </tr>\n  </tbody>\n</table>\n</div>"
     },
     "execution_count": 71,
     "metadata": {},
     "output_type": "execute_result"
    }
   ],
   "source": [
    "# Now make the dataframe just the dates\n",
    "columns = [\"Date\"] + stock_names\n",
    "print(\"Columns: {}\".format(columns))\n",
    "# Drop the weird header rows\n",
    "df = dataframe.drop([0,1])\n",
    "# Change the column names to what we want\n",
    "df.columns = columns\n",
    "# And there's probably a better way to do this but,\n",
    "# Save it as a .csv so we can pull it in again\n",
    "df.to_csv(\"../exercises/fixed_stock_data.csv\")\n",
    "df = pd.read_csv(\"fixed_stock_data.csv\", parse_dates=[\"Date\"], index_col=\"Date\")\n",
    "df = df.drop(columns = \"Unnamed: 0\")\n",
    "df.head()"
   ],
   "metadata": {
    "collapsed": false
   }
  },
  {
   "cell_type": "markdown",
   "source": [
    "Great! After that data wrangling, we're ready to start the actual exercise!"
   ],
   "metadata": {
    "collapsed": false
   }
  }
 ],
 "metadata": {
  "kernelspec": {
   "display_name": "Python 3",
   "language": "python",
   "name": "python3"
  },
  "language_info": {
   "codemirror_mode": {
    "name": "ipython",
    "version": 2
   },
   "file_extension": ".py",
   "mimetype": "text/x-python",
   "name": "python",
   "nbconvert_exporter": "python",
   "pygments_lexer": "ipython2",
   "version": "2.7.6"
  }
 },
 "nbformat": 4,
 "nbformat_minor": 0
}
